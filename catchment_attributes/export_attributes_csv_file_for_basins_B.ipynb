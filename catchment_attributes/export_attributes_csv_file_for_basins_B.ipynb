{
 "cells": [
  {
   "cell_type": "code",
   "execution_count": 8,
   "id": "033f2f16",
   "metadata": {},
   "outputs": [],
   "source": [
    "%matplotlib inline"
   ]
  },
  {
   "cell_type": "code",
   "execution_count": null,
   "id": "e3edbc68",
   "metadata": {},
   "outputs": [],
   "source": [
    "# This notebook exports a Catchment_attributes.csv file for Basin Delineation B"
   ]
  },
  {
   "cell_type": "code",
   "execution_count": 9,
   "id": "cc55383b",
   "metadata": {},
   "outputs": [],
   "source": [
    "import pandas as pds\n",
    "import numpy as np\n",
    "from datetime import datetime\n",
    "import matplotlib.pyplot as plt\n",
    "import matplotlib.ticker as ticker\n",
    "from pathlib import Path\n",
    "import geopandas as gpd\n",
    "import pickle\n",
    "import datetime as dt\n",
    "import geopandas as gpds\n",
    "import geopandas as gpd\n",
    "import pickle\n",
    "import xarray as xr\n",
    "from sklearn.preprocessing import MinMaxScaler\n",
    "from pathlib import Path\n",
    "from shapely.geometry import MultiPolygon\n",
    "from fiona.crs import from_epsg\n",
    "pds.set_option('display.max_rows', 500)"
   ]
  },
  {
   "cell_type": "code",
   "execution_count": 10,
   "id": "27e7e087",
   "metadata": {},
   "outputs": [],
   "source": [
    "# Define paths to files\n",
    "gauges_path = Path(r'C:\\Users\\hordurbhe\\Dropbox\\UW\\lamah_ice\\GIS\\watersheds\\final_watersheds\\gauges_with_splitted_included.shp') \n",
    "wsheds_path = Path(r'C:\\Users\\hordurbhe\\Dropbox\\UW\\lamah_ice\\GIS\\watersheds\\final_watersheds\\final_watersheds\\Basins_B.shp')\n",
    "\n",
    "soil_path = Path(r\"C:\\Users\\hordurbhe\\Dropbox\\UW\\lamah_ice\\lamah_ice\\B_basins_intermediate_all\\1_attributes\\soil_attrs_basins_B.csv\")\n",
    "NI_geo_attrs_path = Path(r\"C:\\Users\\hordurbhe\\Dropbox\\UW\\lamah_ice\\lamah_ice\\B_basins_intermediate_all\\1_attributes\\NI_geo_attrs_basins_B.csv\")\n",
    "topo_attrs_path = Path(r\"C:\\Users\\hordurbhe\\Dropbox\\UW\\lamah_ice\\lamah_ice\\B_basins_intermediate_all\\1_attributes\\topo_attrs_Basins_B.csv\")\n",
    "clim_ind_path = Path(r\"C:\\Users\\hordurbhe\\Dropbox\\UW\\lamah_ice\\lamah_ice\\B_basins_intermediate_all\\1_attributes\\Clim_ind_1989_2009.csv\")\n",
    "\n",
    "# Read gauges shapefile\n",
    "gauges = gpds.read_file(gauges_path)\n",
    "gauges = gauges.set_index('id')\n",
    "cols = ['st_numer', 'st_nafn', 'vhm_numer', 'vatnsfall', 'gagnaeigan', 'stada', 'upphaf_rek','dags_aflag', 'elevation']\n",
    "gauges_reduced = gauges[cols]\n",
    "gauges_reduced.columns = ['V_no','name','VHM_no','river','data_owner','status','upphaf_rek','dags_aflag', 'elevation']\n",
    "\n",
    "# Read watershed attributes (calculated in QGIS)\n",
    "wsheds_attrs = gpds.read_file(wsheds_path)\n",
    "wsheds_attrs.index = wsheds_attrs['id']\n",
    "wsheds_attrs = wsheds_attrs.drop(columns=['id'])\n",
    "wsheds_attrs['lat'] = gauges.geometry.y\n",
    "wsheds_attrs['lon'] = gauges.geometry.x\n",
    "# Drop columns from wsheds_attrs that have no values\n",
    "wsheds_attrs.dropna(axis=1, how='all', inplace=True)\n",
    "# Extract only the relevant columns from wsheds_attrs\n",
    "wsheds_attrs = wsheds_attrs[['forest_fra', 'gc_dom', 'strm_dens', 'mvert_dist', 'gc_ss_fra', 'area_calc', 'gc_wb_fra', 'litho_vapy', 'agr_fra', 'gc_py_fra', 'litho_dom', 'gc_ig_fra', 'elon_ratio', 'bare_fra', 'lon', 'litho_pb', 'glac_fra', 'gc_sm_fra', 'lc_dom', 'mvert_ang', 'gc_vb_fra', 'gc_mt_fra', 'litho_vbsr', 'gc_pi_fra', 'lake_fra', 'urban_fra', 'gc_va_fra', 'gc_su_fra', 'litho_pavr', 'litho_vbpy', 'gc_pb_fra', 'litho_vb', 'lat', 'gc_sc_fra', 'gc_pa_fra','lai_max', 'lai_diff', 'ndvi_max', 'ndvi_min','gvf_max', 'gvf_diff','geometry']]\n",
    "\n",
    "# Read the soil attributes where depth to bedrock is calculated by excluding the glaciated regions\n",
    "soil_indices = pds.read_csv(soil_path)\n",
    "soil_indices = soil_indices.set_index('Unnamed: 0')\n",
    "soil_indices.index = soil_indices.index.rename('id')\n",
    "\n",
    "NI_geo_attrs = pds.read_csv(NI_geo_attrs_path)\n",
    "NI_geo_attrs = NI_geo_attrs.set_index('ID')\n",
    "NI_geo_attrs.index = NI_geo_attrs.index.rename('id')\n",
    "\n",
    "# Topographical attributes\n",
    "topo_attrs = pds.read_csv(topo_attrs_path,sep=';')\n",
    "topo_attrs = topo_attrs.set_index('ID')\n",
    "\n",
    "# Read ERA-Land data\n",
    "era5_data = pds.read_csv(clim_ind_path,sep=';') \n",
    "era5_data.index=era5_data['ID']\n",
    "era5_data.index = era5_data.index.rename('id')"
   ]
  },
  {
   "cell_type": "code",
   "execution_count": 11,
   "id": "8eaa5a21",
   "metadata": {},
   "outputs": [
    {
     "name": "stdout",
     "output_type": "stream",
     "text": [
      "111\n",
      "107\n",
      "107\n",
      "107\n",
      "107\n"
     ]
    }
   ],
   "source": [
    "print(len(gauges))\n",
    "print(len(wsheds_attrs))\n",
    "print(len(era5_data))\n",
    "print(len(soil_indices))\n",
    "print(len(NI_geo_attrs))\n"
   ]
  },
  {
   "cell_type": "code",
   "execution_count": 12,
   "id": "b58a3272",
   "metadata": {},
   "outputs": [
    {
     "data": {
      "text/plain": [
       "geopandas.geodataframe.GeoDataFrame"
      ]
     },
     "execution_count": 12,
     "metadata": {},
     "output_type": "execute_result"
    }
   ],
   "source": [
    "# merge all the DataFrames based on their index\n",
    "merged_dff = wsheds_attrs.sort_index().merge(soil_indices.sort_index(),left_index=True, right_index=True).merge(NI_geo_attrs.sort_index(), left_index=True, right_index=True).merge(era5_data.sort_index(), left_index=True, right_index=True).merge(topo_attrs.sort_index(), left_index=True, right_index=True)\n",
    "\n",
    "merged_dff.geometry = gauges.geometry\n",
    "type(merged_dff)"
   ]
  },
  {
   "cell_type": "code",
   "execution_count": 13,
   "id": "91be1d91",
   "metadata": {},
   "outputs": [],
   "source": [
    "attrs_to_export =   ['area_calc',\n",
    "                     'elev_mean',\n",
    "                     'elev_med',\n",
    "                     'elev_ran',\n",
    "                     'slope_mean',\n",
    "                     'elev_std',\n",
    "                     'asp_mean',\n",
    "                     'gc_dom',\n",
    "                     'strm_dens',\n",
    "                     'mvert_dist',\n",
    "                     'gc_ss_fra',\n",
    "                     'gc_wb_fra',\n",
    "                     'litho_vapy',\n",
    "                     'agr_fra',\n",
    "                     'gc_py_fra',\n",
    "                     'litho_dom',\n",
    "                     'gc_ig_fra',\n",
    "                     'elon_ratio',\n",
    "                     'bare_fra',\n",
    "                     'litho_pb',\n",
    "                     'glac_fra',\n",
    "                     'gc_sm_fra',\n",
    "                     'lc_dom',\n",
    "                     'mvert_ang',\n",
    "                     'gc_vb_fra',\n",
    "                     'gc_mt_fra',\n",
    "                     'litho_vbsr',\n",
    "                     'gc_pi_fra',\n",
    "                     'lake_fra',\n",
    "                     'forest_fra',\n",
    "                     'urban_fra',\n",
    "                     'gc_va_fra',\n",
    "                     'gc_su_fra',\n",
    "                     'litho_pavr',\n",
    "                     'litho_vbpy',\n",
    "                     'gc_pb_fra',\n",
    "                     'litho_vb',\n",
    "                     'gc_sc_fra',\n",
    "                     'gc_pa_fra',\n",
    "                     'lai_max',\n",
    "                     'lai_diff',\n",
    "                     'ndvi_max',\n",
    "                     'ndvi_min',\n",
    "                     'gvf_max',\n",
    "                     'gvf_diff',\n",
    "                     'clay_fra',\n",
    "                     'grav_fra',\n",
    "                     'soil_tawc',\n",
    "                     'oc_fra',\n",
    "                     'silt_fra',\n",
    "                     'soil_poros',\n",
    "                     'root_dep',\n",
    "                     'sand_fra',\n",
    "                     'bedrk_dep',\n",
    "                     'g621_fra',\n",
    "                     'g701_fra',\n",
    "                     'g743_fra',\n",
    "                     'g746_fra',\n",
    "                     'gbinn_fra',\n",
    "                     'gbnew_fra',\n",
    "                     'gbold_fra',\n",
    "                     'ggnew_fra',\n",
    "                     'ggold_fra',\n",
    "                     'ghraun_fra',\n",
    "                     'gmob_fra',\n",
    "                     'gsgos_fra',\n",
    "                     'gsinn_fra',\n",
    "                     'gsn_fra',\n",
    "                     'gsnew_fra',\n",
    "                     'gsold_fra',\n",
    "                     'g_dom_NI',\n",
    "                     'p_mean',\n",
    "                     'pet_mean',\n",
    "                     'aridity',\n",
    "                     'p_seasonality',\n",
    "                     'frac_snow',\n",
    "                     'high_prec_freq',\n",
    "                     'high_prec_dur',\n",
    "                     'high_prec_timing',\n",
    "                     'low_prec_freq',\n",
    "                     'low_prec_dur',\n",
    "                     'low_prec_timing']\n",
    "\n",
    "attributes_path = Path(r\"C:\\Users\\hordurbhe\\Documents\\Vinna\\lamah\\lamah_ice\\lamah_ice\\B_basins_intermediate_all\\1_attributes\\Catchment_attributes.csv\")\n",
    "merged_dff[attrs_to_export].round(3).to_csv(attributes_path)"
   ]
  }
 ],
 "metadata": {
  "kernelspec": {
   "display_name": "Python [conda env:lamah_py311]",
   "language": "python",
   "name": "conda-env-lamah_py311-py"
  },
  "language_info": {
   "codemirror_mode": {
    "name": "ipython",
    "version": 3
   },
   "file_extension": ".py",
   "mimetype": "text/x-python",
   "name": "python",
   "nbconvert_exporter": "python",
   "pygments_lexer": "ipython3",
   "version": "3.11.3"
  }
 },
 "nbformat": 4,
 "nbformat_minor": 5
}
