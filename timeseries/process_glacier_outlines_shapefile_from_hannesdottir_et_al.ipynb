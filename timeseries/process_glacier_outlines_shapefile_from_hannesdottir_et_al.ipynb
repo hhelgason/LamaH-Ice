{
 "cells": [
  {
   "cell_type": "code",
   "execution_count": 1,
   "id": "rubber-motion",
   "metadata": {},
   "outputs": [],
   "source": [
    "%matplotlib inline"
   ]
  },
  {
   "cell_type": "markdown",
   "id": "9524c7a8",
   "metadata": {},
   "source": [
    "# Calculating changes in the degree of glaciation of each catchment"
   ]
  },
  {
   "cell_type": "code",
   "execution_count": 2,
   "id": "indirect-manhattan",
   "metadata": {},
   "outputs": [],
   "source": [
    "# This notebook calculates the changes in the degree of glaciation of each catchment\n",
    "# We read glacier outlines from Hannesdottir et al, for 1890-2019, and calculate the percentage and total km2 of glaciation for each catchment\n",
    "# Glacier outlines are from:\n",
    "# Hannesdóttir, H., Sigurðsson, O., Þrastarson, R. H., Guðmundsson, S., Belart, J. M. C., Pálsson, F., Magnússon, E., Víkingsson, S., Kaldal, I., and Jóhannesson, T.: A national glacier inventory and variations in glacier extent in Iceland from the Little Ice Age maximum to 2019, Jökull, https://doi.org/10.33799/jokull2020.70.001, 2020."
   ]
  },
  {
   "cell_type": "code",
   "execution_count": 3,
   "id": "583c74f3",
   "metadata": {},
   "outputs": [],
   "source": [
    "import geopandas as gpd\n",
    "import pandas as pds\n",
    "from pathlib import Path\n",
    "import os\n",
    "import geopandas as gpd\n",
    "from shapely.geometry import Polygon, mapping\n",
    "import matplotlib.pyplot as plt\n",
    "import numpy as np\n",
    "pds.options.display.max_rows = 999"
   ]
  },
  {
   "cell_type": "markdown",
   "id": "6b9cd6fb",
   "metadata": {},
   "source": [
    "# Define functions"
   ]
  },
  {
   "cell_type": "code",
   "execution_count": 4,
   "id": "57a5ea2e",
   "metadata": {},
   "outputs": [],
   "source": [
    "# Define functions used\n",
    "def linestring_to_polygon(gdf,orig_gdf):\n",
    "    # This function converts glacier outline linestrings to polygons\n",
    "    # Thanks to Carlos Encisco, https://stackoverflow.com/questions/2964751/how-to-convert-a-geos-multilinestring-to-polygon\n",
    "    all_coords = mapping(gdf.geometry)['coordinates']\n",
    "    lats = [x[1] for x in all_coords]\n",
    "    lons = [x[0] for x in all_coords]\n",
    "    polyg = Polygon(zip(lons, lats))\n",
    "    return gpd.GeoDataFrame(index=[0], crs=orig_gdf.crs, geometry=[polyg])\n",
    "\n",
    "def replace_nans_with_zeros(dataframe):\n",
    "    df = dataframe.copy()\n",
    "    # This function replaces nan values with zeros where appropriate.\n",
    "    for i in df.index:\n",
    "        if i in [24,29]: # An error in the dataset: Data is missing in 2014 for Þrándajökull glacier. Safe to interpolate between 2000 and 2017.\n",
    "            continue\n",
    "        elif i in [34,106]: # There is data for Drangajökull glacier and Vatnajökull glacier in 1945 - So we can set 0 for 1945 onwards.\n",
    "            df.loc[i][[1945,1970,2000,2014,2017,2019]] = 0\n",
    "            continue\n",
    "        # If there is a valid value in 1890:\n",
    "        if not np.isnan(df.loc[i][1890]):\n",
    "            # If there is a nan in 2000:\n",
    "            if np.isnan(df.loc[i][2000]):\n",
    "                df.loc[i][[2000,2014,2017,2019]] = 0\n",
    "                print('2000 onwards: ID %s' %i)\n",
    "            elif np.isnan(df.loc[i][2014]):\n",
    "                print('2014 onwards: ID %s' %i)\n",
    "                df.loc[i][[2014,2017,2019]] = 0\n",
    "            elif np.isnan(df.loc[i][2017]):\n",
    "                print('2017 onwards: ID %s' %i)\n",
    "                df.loc[i][[2017,2019]] = 0\n",
    "            elif np.isnan(df.loc[i][2019]):\n",
    "                print('2019 onwards: ID %s' %i)\n",
    "                df.loc[i][[2019]] = 0\n",
    "    return(df)\n",
    "\n",
    "def interpolate(results_dataframe):\n",
    "    df = results_dataframe.copy()\n",
    "    years = list(range(1890, 2020))\n",
    "    df = df.reindex(columns=years)\n",
    "    df.interpolate(method='linear', axis=1, inplace=True)\n",
    "    return(df)"
   ]
  },
  {
   "cell_type": "markdown",
   "id": "84f8e95c",
   "metadata": {},
   "source": [
    "# Read files"
   ]
  },
  {
   "cell_type": "code",
   "execution_count": 5,
   "id": "83020f0a",
   "metadata": {},
   "outputs": [],
   "source": [
    "# Read watersheds and gauges shapefiles\n",
    "watersheds = gpd.read_file(r'C:\\Users\\hordurbhe\\Documents\\Vinna\\lamah\\lamah_ice\\lamah_ice\\A_basins_total_upstrm\\3_shapefiles\\Basins_A.shp')\n",
    "watersheds.index = watersheds['id']\n",
    "watersheds = watersheds.sort_index()\n",
    "\n",
    "gauges = gpd.read_file(r'C:\\Users\\hordurbhe\\Documents\\Vinna\\lamah\\lamah_ice\\lamah_ice\\D_gauges\\3_shapefiles\\gauges.shp')\n",
    "gauges.index = gauges['id']\n",
    "gauges = gauges.drop(columns=['id'])\n",
    "gauges = gauges.sort_index()\n",
    "\n",
    "# Define the paths to the glacier outline shapefiles\n",
    "glacier_filenames = dict()\n",
    "path = Path(r\"C:\\Users\\hordurbhe\\Documents\\Vinna\\lamah\\lamah_ice\\glacier_outline_1890_2019_hh_Aug2021\\jökla-útlínur\")\n",
    "for year in [1890,1945,1970,2000,2014,2017,2019]: #2011,2012 #2007,2008 2010,\n",
    "    if year in [1970,2000]:\n",
    "        fname = '%ss_glacier_outlines.shp' % year\n",
    "    else:\n",
    "        fname = '%s_glacier_outlines.shp' % year\n",
    "    glacier_filenames[year] = os.path.join(path,fname)\n",
    "# Note: Years 1890, 2000, 2014, 2017 and 2019 contain all glaciers. 1945 and 1970 only contain the largest glaciers.\n",
    "\n",
    "# We create a pandas dataframe to insert results\n",
    "results_percentage = pds.DataFrame(index=watersheds.index)\n",
    "results_km2 = pds.DataFrame(index=watersheds.index)"
   ]
  },
  {
   "cell_type": "markdown",
   "id": "41ed71c4",
   "metadata": {},
   "source": [
    "# Perform calculations"
   ]
  },
  {
   "cell_type": "code",
   "execution_count": 6,
   "id": "frequent-black",
   "metadata": {
    "scrolled": true
   },
   "outputs": [
    {
     "name": "stdout",
     "output_type": "stream",
     "text": [
      "1890\n",
      "1945\n",
      "1970\n",
      "2000\n",
      "Glacier bound id. 824 dropped for 2000\n",
      "2014\n",
      "2017\n",
      "2019\n"
     ]
    }
   ],
   "source": [
    "# Loop over each year and calculate the glacierized area and percentage of catchment under glacier\n",
    "for year, filename in glacier_filenames.items():\n",
    "    print(year)\n",
    "    # Read in the glacier geodataframe for this year\n",
    "    glaciers = gpd.read_file(filename)\n",
    "    # We select only the lines that are classified as glacier outlines\n",
    "    glacier_bounds = glaciers[glaciers['catagory']=='glac_bound']\n",
    "    polygon_geoms = []\n",
    "    for i in glacier_bounds.index:\n",
    "        # Blöndujökull Glacier (á Hornströndum) (i=559): The geometry is broken for 1890\n",
    "        if i == 559 and year == 1890:\n",
    "            glacier_bounds = glacier_bounds.drop(i)\n",
    "            continue\n",
    "        # Some glacier bounds have invalid geometries (nonetype)\n",
    "        # We convert the linestring to polygon if the geometry is valid\n",
    "        # If not, we remove the corresponding row in glacier_bounds\n",
    "        # This actually just happens for id. 824 in 2000 \n",
    "        if glacier_bounds.loc[i].geometry:\n",
    "            polygon_geoms.append(linestring_to_polygon(glacier_bounds.loc[i],glacier_bounds).values[0][0])\n",
    "        else:\n",
    "            glacier_bounds = glacier_bounds.drop(i)\n",
    "            print('Glacier bound id. %s dropped for %s' %(i,year))\n",
    "            \n",
    "    # Update the geometry of glacier_bounds with the corrected geometry\n",
    "    glacier_bounds = glacier_bounds.set_geometry(polygon_geoms) \n",
    "    glaciers = glacier_bounds\n",
    "    \n",
    "    # Calculate the intersection between the catchments and glaciers\n",
    "    catchments_glaciers = gpd.overlay(watersheds, glaciers, how='intersection')\n",
    "\n",
    "    # Calculate the intersection area between each catchment and glacier\n",
    "    catchments_glaciers['intersection_area'] = catchments_glaciers.geometry.area \n",
    "\n",
    "    # Calculate the total area of each catchment\n",
    "    watersheds['catchment_area'] = watersheds.geometry.area\n",
    "\n",
    "    # Calculate the total glacier area within each catchment\n",
    "    grouped = catchments_glaciers.groupby('id')['intersection_area'].sum()\n",
    "\n",
    "    # Sort both dataframes so that the percentage calculation is correct\n",
    "    grouped = grouped.sort_index() \n",
    "    watersheds = watersheds.sort_index()\n",
    "    watersheds['glacier_area'] = grouped\n",
    "    \n",
    "    # Calculate the percentage of area of each catchment covered by glaciers\n",
    "    watersheds['glacier_percentage'] = (watersheds['glacier_area'] / watersheds['catchment_area']) * 100\n",
    "    results_percentage[year] = watersheds['glacier_percentage']\n",
    "    results_km2[year] = watersheds['glacier_area']/1e6"
   ]
  },
  {
   "cell_type": "code",
   "execution_count": 7,
   "id": "meaningful-layout",
   "metadata": {
    "scrolled": true
   },
   "outputs": [],
   "source": [
    "# Small glaciers in North-Iceland are not represented in the outlines in 1945 or 1970 for the following gauges:\n",
    "listi = ['V321','V51','V517','V92']\n",
    "app = []\n",
    "for l in listi:\n",
    "    app.append(gauges[gauges['V_no'] == l].index[0]) #,'V51','V517','V92']]\n",
    "\n",
    "# We set the corresponding glacier percentages in the results dataframe as nans    \n",
    "for i in app:\n",
    "    results_km2.loc[i, [1945, 1970]] = np.nan\n",
    "    results_percentage.loc[i, [1945, 1970]] = np.nan\n",
    "    \n",
    "# We set the glacier percentage and area for watershed id. 26 as 0 since the percentage is extremely low\n",
    "results_km2.loc[26] = np.nan\n",
    "results_percentage.loc[26] = np.nan"
   ]
  },
  {
   "cell_type": "code",
   "execution_count": 8,
   "id": "eede8c04",
   "metadata": {},
   "outputs": [
    {
     "name": "stdout",
     "output_type": "stream",
     "text": [
      "2014 onwards: ID 1\n",
      "2000 onwards: ID 8\n",
      "2014 onwards: ID 1\n",
      "2000 onwards: ID 8\n"
     ]
    }
   ],
   "source": [
    "# The glacial coverage is provided for years 1890, 1945, 1970, 2000, 2014, 2017 and 2019\n",
    "# Years 1890, 2000, 2014, 2017 and 2019 contain data for all the glaciers in Iceland. \n",
    "# Years 1945 and 1970 only contain the largest glaciers, so for these years, the dataframes have Nan values\n",
    "# We need to update our calculations: If there's a NaN for years where all glaciers are covered, it's supposed to be a zero\n",
    "# This applies to all catchment IDs except 24 and 29 (For some reason, the 2014 year does not contain data for Þrándajökull)\n",
    "\n",
    "# So if there is a number in 1890 and a nan in years 2000, 2014, 2017 or 2019:\n",
    "# It means that the glacier has disappeared and area estimates should be zero from there on.\n",
    "# So we apply the replace_nans_with_zeros function\n",
    "final_results_km2 = replace_nans_with_zeros(results_km2)\n",
    "final_results_percentage = replace_nans_with_zeros(results_percentage)"
   ]
  },
  {
   "cell_type": "code",
   "execution_count": 9,
   "id": "illegal-delaware",
   "metadata": {},
   "outputs": [],
   "source": [
    "# We set the glacier percentage and area for watershed id. 26 as 0 since the percentage is extremely low\n",
    "results_km2.loc[26] = np.nan\n",
    "results_percentage.loc[26] = np.nan"
   ]
  },
  {
   "cell_type": "markdown",
   "id": "interim-thursday",
   "metadata": {},
   "source": [
    "# Perform interpolation between years with valid data:"
   ]
  },
  {
   "cell_type": "code",
   "execution_count": 10,
   "id": "stable-johnson",
   "metadata": {},
   "outputs": [],
   "source": [
    "# The glacial coverage is provided for years 1890, 1945, 1970, 2000, 2014, 2017 and 2019\n",
    "# Years 1890, 2000, 2014, 2017 and 2019 contain data for all the glaciers in Iceland. \n",
    "# Years 1945 and 1970 only contain the largest glaciers, so for these years, the dataframes have Nan values\n",
    "# We need to update our calculations: If there's a NaN for years where all glaciers are covered, it's supposed to be a zero\n",
    "# This applies to all catchment IDs except 24 and 29 (For some reason, the 2014 year does not contain data for Þrándajökull)\n",
    "\n",
    "# So if there is a number in 1890 and a nan in years 2000, 2014, 2017 or 2019:\n",
    "# It means that the glacier has disappeared and area estimates should be zero from there on."
   ]
  },
  {
   "cell_type": "code",
   "execution_count": 11,
   "id": "suspected-excuse",
   "metadata": {},
   "outputs": [],
   "source": [
    "interp_final_results_km2 = interpolate(final_results_km2)\n",
    "interp_final_results_percentage = interpolate(final_results_percentage)"
   ]
  },
  {
   "cell_type": "markdown",
   "id": "22c301a1",
   "metadata": {},
   "source": [
    "# Save as .csv"
   ]
  },
  {
   "cell_type": "code",
   "execution_count": 12,
   "id": "49bbf95f",
   "metadata": {},
   "outputs": [],
   "source": [
    "savepath = Path(r\"C:\\Users\\hordurbhe\\Dropbox\\UW\\lamah_ice\\lamah_ice\\A_basins_total_upstrm\\2_timeseries\\annual\\glaciated_area_km2_final.csv\") \n",
    "interp_final_results_km2.round(3).to_csv(savepath)\n",
    "savepath = Path(r\"C:\\Users\\hordurbhe\\Dropbox\\UW\\lamah_ice\\lamah_ice\\A_basins_total_upstrm\\2_timeseries\\annual\\glaciated_area_percentage_final.csv\")\n",
    "interp_final_results_percentage.round(3).to_csv(savepath)"
   ]
  },
  {
   "cell_type": "markdown",
   "id": "184038ca",
   "metadata": {},
   "source": [
    "# Print statistics"
   ]
  },
  {
   "cell_type": "code",
   "execution_count": 13,
   "id": "c9b0dad0",
   "metadata": {},
   "outputs": [
    {
     "data": {
      "text/plain": [
       "63"
      ]
     },
     "execution_count": 13,
     "metadata": {},
     "output_type": "execute_result"
    }
   ],
   "source": [
    "# Eliminate the splitted gauges\n",
    "interp_final_results_percentage = interp_final_results_percentage[:-4]\n",
    "interp_final_results_km2 = interp_final_results_km2[:-4]\n",
    "# How many catchments are partly covered by glaciers in 1950?\n",
    "len(interp_final_results_percentage[interp_final_results_percentage[1950]>0].dropna())"
   ]
  },
  {
   "cell_type": "code",
   "execution_count": 14,
   "id": "5c7d587d",
   "metadata": {},
   "outputs": [
    {
     "data": {
      "text/plain": [
       "65"
      ]
     },
     "execution_count": 14,
     "metadata": {},
     "output_type": "execute_result"
    }
   ],
   "source": [
    "# How many catchments are partly covered by glaciers in 1890?\n",
    "len(interp_final_results_percentage[interp_final_results_percentage[1890]>0].dropna())"
   ]
  },
  {
   "cell_type": "code",
   "execution_count": 15,
   "id": "0e87e201",
   "metadata": {},
   "outputs": [
    {
     "data": {
      "text/plain": [
       "61"
      ]
     },
     "execution_count": 15,
     "metadata": {},
     "output_type": "execute_result"
    }
   ],
   "source": [
    "# How many catchments are partly covered by glaciers in 2019?\n",
    "len(interp_final_results_percentage[interp_final_results_percentage[2019]>0][2019].dropna())"
   ]
  },
  {
   "cell_type": "markdown",
   "id": "71ec43d9",
   "metadata": {},
   "source": [
    "# Stats for percent glaciation - 1950 to 2019"
   ]
  },
  {
   "cell_type": "code",
   "execution_count": 16,
   "id": "cbf0fcfc",
   "metadata": {},
   "outputs": [
    {
     "name": "stdout",
     "output_type": "stream",
     "text": [
      "Out of the 55 catchments with more than 2% glaciation:\n",
      "The mean change in glaciated area from 1950 to 2019 is: -3.0536051891280294\n",
      "The median change in glaciated area from 1950 to 2019 is: -2.6718206088631717\n",
      "The max change in glaciated area from 1950 to 2019 is: -0.20824364809465745\n",
      "The min change in glaciated area from 1950 to 2019 is: -8.940828544464978\n",
      " \n",
      "The mean percent glaciated area in 1950 is: 27.237320233304064\n",
      "The mean percent glaciated area in 2019 is: 24.183715044176022\n"
     ]
    }
   ],
   "source": [
    "# We skip all catchments with less than 2% glaciation in 1950\n",
    "glacier_data = interp_final_results_percentage[interp_final_results_percentage[1950]>2].transpose()\n",
    "\n",
    "startyear = '1950'\n",
    "\n",
    "# Subset the DataFrame to include only years from 1950 to 2019\n",
    "glacier_data_1950_2019 = glacier_data.loc[startyear:'2019']\n",
    "\n",
    "# Calculate the difference in glaciated area between 1950 and 2019 for each watershed\n",
    "glacier_area_diff = glacier_data_1950_2019.iloc[-1] - glacier_data_1950_2019.iloc[0]\n",
    "\n",
    "# Calculate the mean change in glaciated area\n",
    "mean_glacier_area_diff = glacier_area_diff.mean()\n",
    "\n",
    "print(\"Out of the %s catchments with more than 2%% glaciation:\" % len(interp_final_results_percentage[interp_final_results_percentage[1950]>2]))\n",
    "print(\"The mean change in glaciated area from %s to 2019 is:\" % startyear, mean_glacier_area_diff)\n",
    "print(\"The median change in glaciated area from %s to 2019 is:\" % startyear, glacier_area_diff.median())\n",
    "print(\"The max change in glaciated area from %s to 2019 is:\" % startyear, glacier_area_diff.max())\n",
    "print(\"The min change in glaciated area from %s to 2019 is:\" % startyear, glacier_area_diff.min())\n",
    "print(' ')\n",
    "print(\"The mean percent glaciated area in %s is:\" % startyear, glacier_data_1950_2019.iloc[0].mean())\n",
    "print(\"The mean percent glaciated area in 2019 is:\", glacier_data_1950_2019.iloc[-1].mean())"
   ]
  },
  {
   "cell_type": "code",
   "execution_count": 17,
   "id": "5cd04501",
   "metadata": {},
   "outputs": [
    {
     "data": {
      "text/plain": [
       "48"
      ]
     },
     "execution_count": 17,
     "metadata": {},
     "output_type": "execute_result"
    }
   ],
   "source": [
    "# Where does the max and min occur?\n",
    "glacier_area_diff.idxmin()"
   ]
  },
  {
   "cell_type": "code",
   "execution_count": 18,
   "id": "157a7e92",
   "metadata": {},
   "outputs": [
    {
     "data": {
      "text/plain": [
       "-8.940828544464978"
      ]
     },
     "execution_count": 18,
     "metadata": {},
     "output_type": "execute_result"
    }
   ],
   "source": [
    "glacier_area_diff.loc[48]"
   ]
  },
  {
   "cell_type": "code",
   "execution_count": 19,
   "id": "745a016d",
   "metadata": {},
   "outputs": [
    {
     "data": {
      "text/plain": [
       "-2.0695659258466996"
      ]
     },
     "execution_count": 19,
     "metadata": {},
     "output_type": "execute_result"
    }
   ],
   "source": [
    "glacier_area_diff.loc[103]"
   ]
  },
  {
   "cell_type": "markdown",
   "id": "dc76753a",
   "metadata": {},
   "source": [
    "# Stats for glacier area in km2"
   ]
  },
  {
   "cell_type": "code",
   "execution_count": 20,
   "id": "bc7d8fe6",
   "metadata": {},
   "outputs": [
    {
     "name": "stdout",
     "output_type": "stream",
     "text": [
      "Out of the 55 catchments with more than 2% glaciation:\n",
      "The mean change in glaciated area from 1950 to 2019 is: -34.83100904672141\n",
      "The median change in glaciated area from 1950 to 2019 is: -28.41027924061632\n",
      "The max change in glaciated area from 1950 to 2019 is: -0.2381896706404063\n",
      "The min change in glaciated area from 1950 to 2019 is: -137.1809433726262\n",
      " \n",
      "The mean percent glaciated area in 1950 is: 365.4290461440551\n",
      "The mean percent glaciated area in 2019 is: 330.5980370973337\n"
     ]
    }
   ],
   "source": [
    "# We skip all catchments with less than 2% glaciation in 1950\n",
    "glacier_data = interp_final_results_km2[interp_final_results_percentage[1950]>2].transpose()\n",
    "\n",
    "startyear = '1950'\n",
    "\n",
    "# Subset the DataFrame to include only years from 1950 to 2019\n",
    "glacier_data_1950_2019 = glacier_data.loc[startyear:'2019']\n",
    "\n",
    "# Calculate the difference in glaciated area between 1950 and 2019 for each watershed\n",
    "glacier_area_diff = glacier_data_1950_2019.iloc[-1] - glacier_data_1950_2019.iloc[0]\n",
    "\n",
    "# Calculate the mean change in glaciated area\n",
    "mean_glacier_area_diff = glacier_area_diff.mean()\n",
    "print(\"Out of the %s catchments with more than 2%% glaciation:\" % len(interp_final_results_percentage[interp_final_results_percentage[1950]>2]))\n",
    "print(\"The mean change in glaciated area from %s to 2019 is:\" % startyear, mean_glacier_area_diff)\n",
    "print(\"The median change in glaciated area from %s to 2019 is:\" % startyear, glacier_area_diff.median())\n",
    "print(\"The max change in glaciated area from %s to 2019 is:\" % startyear, glacier_area_diff.max())\n",
    "print(\"The min change in glaciated area from %s to 2019 is:\" % startyear, glacier_area_diff.min())\n",
    "print(' ')\n",
    "print(\"The mean percent glaciated area in %s is:\" % startyear, glacier_data_1950_2019.iloc[0].mean())\n",
    "print(\"The mean percent glaciated area in 2019 is:\", glacier_data_1950_2019.iloc[-1].mean())"
   ]
  },
  {
   "cell_type": "code",
   "execution_count": 21,
   "id": "b50615ba",
   "metadata": {},
   "outputs": [
    {
     "data": {
      "text/plain": [
       "103"
      ]
     },
     "execution_count": 21,
     "metadata": {},
     "output_type": "execute_result"
    }
   ],
   "source": [
    "glacier_area_diff.idxmin()"
   ]
  },
  {
   "cell_type": "code",
   "execution_count": 23,
   "id": "68a52b54",
   "metadata": {},
   "outputs": [
    {
     "data": {
      "text/plain": [
       "-137.1809433726262"
      ]
     },
     "execution_count": 23,
     "metadata": {},
     "output_type": "execute_result"
    }
   ],
   "source": [
    "glacier_area_diff.loc[103]"
   ]
  },
  {
   "cell_type": "code",
   "execution_count": 24,
   "id": "725f1904",
   "metadata": {},
   "outputs": [
    {
     "data": {
      "text/plain": [
       "-27.033063806615573"
      ]
     },
     "execution_count": 24,
     "metadata": {},
     "output_type": "execute_result"
    }
   ],
   "source": [
    "glacier_area_diff.loc[48]"
   ]
  },
  {
   "cell_type": "markdown",
   "id": "af156832",
   "metadata": {},
   "source": [
    "# Check stats for 1890"
   ]
  },
  {
   "cell_type": "markdown",
   "id": "94709cf4",
   "metadata": {},
   "source": [
    "# Percent"
   ]
  },
  {
   "cell_type": "code",
   "execution_count": 25,
   "id": "b0c58b21",
   "metadata": {},
   "outputs": [
    {
     "name": "stdout",
     "output_type": "stream",
     "text": [
      "Out of the 56 catchments with more than 2% glaciation:\n",
      "The mean change in glaciated area from 1890 to 2019 is: -5.64346797951723\n",
      "The median change in glaciated area from 1890 to 2019 is: -4.184394006573697\n",
      "The max change in glaciated area from 1890 to 2019 is: -0.22643723486738843\n",
      "The min change in glaciated area from 1890 to 2019 is: -18.640184691798154\n",
      " \n",
      "The mean percent glaciated area in 1890 is: 29.82718302369326\n",
      "The mean percent glaciated area in 2019 is: 24.183715044176022\n"
     ]
    }
   ],
   "source": [
    "# Test stats for 1890:\n",
    "# We skip all catchments with less than 2% glaciation in 1950\n",
    "glacier_data = interp_final_results_percentage[interp_final_results_percentage[1950]>2].transpose()\n",
    "\n",
    "startyear = '1890'\n",
    "\n",
    "# Subset the DataFrame to include only years from 1950 to 2019\n",
    "glacier_data_1950_2019 = glacier_data.loc[startyear:'2019']\n",
    "\n",
    "# Calculate the difference in glaciated area between 1950 and 2019 for each watershed\n",
    "glacier_area_diff = glacier_data_1950_2019.iloc[-1] - glacier_data_1950_2019.iloc[0]\n",
    "\n",
    "# Calculate the mean change in glaciated area\n",
    "mean_glacier_area_diff = glacier_area_diff.mean()\n",
    "\n",
    "print(\"Out of the %s catchments with more than 2%% glaciation:\" % len(interp_final_results_percentage[interp_final_results_percentage[int(startyear)]>2]))\n",
    "print(\"The mean change in glaciated area from %s to 2019 is:\" % startyear, mean_glacier_area_diff)\n",
    "print(\"The median change in glaciated area from %s to 2019 is:\" % startyear, glacier_area_diff.median())\n",
    "print(\"The max change in glaciated area from %s to 2019 is:\" % startyear, glacier_area_diff.max())\n",
    "print(\"The min change in glaciated area from %s to 2019 is:\" % startyear, glacier_area_diff.min())\n",
    "print(' ')\n",
    "print(\"The mean percent glaciated area in %s is:\" % startyear, glacier_data_1950_2019.iloc[0].mean())\n",
    "print(\"The mean percent glaciated area in 2019 is:\", glacier_data_1950_2019.iloc[-1].mean())"
   ]
  },
  {
   "cell_type": "code",
   "execution_count": 26,
   "id": "ac23b969",
   "metadata": {},
   "outputs": [
    {
     "data": {
      "text/plain": [
       "78"
      ]
     },
     "execution_count": 26,
     "metadata": {},
     "output_type": "execute_result"
    }
   ],
   "source": [
    "# Where does the max and min occur?\n",
    "glacier_area_diff.idxmin()"
   ]
  },
  {
   "cell_type": "code",
   "execution_count": 27,
   "id": "4a5f79b5",
   "metadata": {},
   "outputs": [
    {
     "data": {
      "text/plain": [
       "-18.640184691798154"
      ]
     },
     "execution_count": 27,
     "metadata": {},
     "output_type": "execute_result"
    }
   ],
   "source": [
    "glacier_area_diff.loc[78]"
   ]
  },
  {
   "cell_type": "code",
   "execution_count": 28,
   "id": "c724dcb5",
   "metadata": {},
   "outputs": [
    {
     "data": {
      "text/plain": [
       "-3.459179506733374"
      ]
     },
     "execution_count": 28,
     "metadata": {},
     "output_type": "execute_result"
    }
   ],
   "source": [
    "glacier_area_diff.loc[103]"
   ]
  },
  {
   "cell_type": "markdown",
   "id": "431645d8",
   "metadata": {},
   "source": [
    "# Area"
   ]
  },
  {
   "cell_type": "code",
   "execution_count": 29,
   "id": "0d3d4e38",
   "metadata": {},
   "outputs": [
    {
     "name": "stdout",
     "output_type": "stream",
     "text": [
      "Out of the 56 catchments with more than 2% glaciation:\n",
      "The mean change in glaciated area from 1890 to 2019 is: -63.282729661981584\n",
      "The median change in glaciated area from 1890 to 2019 is: -43.93490180778474\n",
      "The max change in glaciated area from 1890 to 2019 is: -0.6029308022856368\n",
      "The min change in glaciated area from 1890 to 2019 is: -229.29132244714492\n",
      " \n",
      "The mean percent glaciated area in 1890 is: 393.8807667593154\n",
      "The mean percent glaciated area in 2019 is: 330.5980370973337\n"
     ]
    }
   ],
   "source": [
    "# We skip all catchments with less than 2% glaciation in 1950\n",
    "glacier_data = interp_final_results_km2[interp_final_results_percentage[1950]>2].transpose()\n",
    "\n",
    "startyear = '1890'\n",
    "\n",
    "# Subset the DataFrame to include only years from 1950 to 2019\n",
    "glacier_data_1950_2019 = glacier_data.loc[startyear:'2019']\n",
    "\n",
    "# Calculate the difference in glaciated area between 1950 and 2019 for each watershed\n",
    "glacier_area_diff = glacier_data_1950_2019.iloc[-1] - glacier_data_1950_2019.iloc[0]\n",
    "\n",
    "# Calculate the mean change in glaciated area\n",
    "mean_glacier_area_diff = glacier_area_diff.mean()\n",
    "print(\"Out of the %s catchments with more than 2%% glaciation:\" % len(interp_final_results_percentage[interp_final_results_percentage[int(startyear)]>2]))\n",
    "print(\"The mean change in glaciated area from %s to 2019 is:\" % startyear, mean_glacier_area_diff)\n",
    "print(\"The median change in glaciated area from %s to 2019 is:\" % startyear, glacier_area_diff.median())\n",
    "print(\"The max change in glaciated area from %s to 2019 is:\" % startyear, glacier_area_diff.max())\n",
    "print(\"The min change in glaciated area from %s to 2019 is:\" % startyear, glacier_area_diff.min())\n",
    "print(' ')\n",
    "print(\"The mean percent glaciated area in %s is:\" % startyear, glacier_data_1950_2019.iloc[0].mean())\n",
    "print(\"The mean percent glaciated area in 2019 is:\", glacier_data_1950_2019.iloc[-1].mean())"
   ]
  },
  {
   "cell_type": "code",
   "execution_count": 30,
   "id": "33731bbe",
   "metadata": {},
   "outputs": [
    {
     "data": {
      "text/plain": [
       "103"
      ]
     },
     "execution_count": 30,
     "metadata": {},
     "output_type": "execute_result"
    }
   ],
   "source": [
    "# Where does the max and min occur?\n",
    "glacier_area_diff.idxmin()"
   ]
  },
  {
   "cell_type": "code",
   "execution_count": 31,
   "id": "a693153c",
   "metadata": {},
   "outputs": [
    {
     "data": {
      "text/plain": [
       "-229.29132244714492"
      ]
     },
     "execution_count": 31,
     "metadata": {},
     "output_type": "execute_result"
    }
   ],
   "source": [
    "glacier_area_diff.loc[103]"
   ]
  },
  {
   "cell_type": "code",
   "execution_count": 32,
   "id": "36754c34",
   "metadata": {},
   "outputs": [
    {
     "data": {
      "text/plain": [
       "-3.642599393280813"
      ]
     },
     "execution_count": 32,
     "metadata": {},
     "output_type": "execute_result"
    }
   ],
   "source": [
    "glacier_area_diff.loc[78]"
   ]
  },
  {
   "cell_type": "markdown",
   "id": "70d9c37e",
   "metadata": {},
   "source": [
    "# Save timeseries as .csv for each catchment"
   ]
  },
  {
   "cell_type": "code",
   "execution_count": null,
   "id": "87d65890",
   "metadata": {},
   "outputs": [],
   "source": [
    "# This is done here: https://github.com/hhelgason/LamaH-Ice/blob/main/timeseries/finalize_modis_and_glacier_timeseries.ipynb"
   ]
  },
  {
   "cell_type": "markdown",
   "id": "reported-onion",
   "metadata": {},
   "source": [
    "# Prepare calculations of topographic glacier attributes:\n",
    "# Clip the watersheds by the 2019 glacier outlines:"
   ]
  },
  {
   "cell_type": "code",
   "execution_count": 32,
   "id": "dynamic-translator",
   "metadata": {},
   "outputs": [],
   "source": [
    "# We re-use the code from above:\n",
    "year = 2019\n",
    "filename = glacier_filenames[year]\n",
    "# Read in the glacier geodataframe for this year\n",
    "glaciers = gpd.read_file(filename)\n",
    "# We select only the lines that are classified as glacier outlines\n",
    "glacier_bounds = glaciers[glaciers['catagory']=='glac_bound']\n",
    "polygon_geoms = []\n",
    "for i in glacier_bounds.index:\n",
    "    # Blöndujökull á Hornströndum (i=559): Geometrían er biluð fyrir 1890\n",
    "    if i == 559 and year == 1890:\n",
    "        glacier_bounds = glacier_bounds.drop(i)\n",
    "        continue\n",
    "    # Some glacier bounds have invalid geometries (nonetype)\n",
    "    # We convert the linestring to polygon if the geometry is valid\n",
    "    # If not, we remove the corresponding row in glacier_bounds\n",
    "    # This actually just happens for id. 824 in 2000 \n",
    "    if glacier_bounds.loc[i].geometry:\n",
    "        polygon_geoms.append(linestring_to_polygon(glacier_bounds.loc[i],glacier_bounds).values[0][0])\n",
    "    else:\n",
    "        glacier_bounds = glacier_bounds.drop(i)\n",
    "        print('Glacier bound id. %s dropped for %s' %(i,year))\n",
    "\n",
    "# Update the geometry of glacier_bounds with the corrected geometry\n",
    "glacier_bounds = glacier_bounds.set_geometry(polygon_geoms) \n",
    "glaciers = glacier_bounds"
   ]
  },
  {
   "cell_type": "code",
   "execution_count": 33,
   "id": "nasty-conservation",
   "metadata": {},
   "outputs": [],
   "source": [
    "# Calculate the intersection between the catchments and glaciers\n",
    "catchments_glaciers = gpd.overlay(watersheds, glaciers, how='intersection')\n",
    "\n",
    "# Group the catchment-glacier polygons by catchment ID\n",
    "grouped = catchments_glaciers.groupby('id')['geometry'].agg(lambda x: x.unary_union)\n",
    "\n",
    "# Create a new GeoDataFrame with catchment ID and merged catchment geometry\n",
    "merged_catchments = gpd.GeoDataFrame(geometry=grouped.values, crs=watersheds.crs)\n",
    "merged_catchments['id'] = grouped.index\n",
    "\n",
    "merged_catchments.index = merged_catchments['id']\n",
    "merged_catchments = merged_catchments.drop(columns=['id']) #to_file('merged_catchments.shp')\n",
    "# Save the merged catchments to a shapefile\n",
    "savepath = Path(r\"C:\\Users\\hordurbhe\\Dropbox\\UW\\lamah_ice\\lamah_ice\\A_basins_total_upstrm\\3_shapefiles\\glaciers_in_catchments.shp\")\n",
    "merged_catchments.to_file(savepath)"
   ]
  },
  {
   "cell_type": "code",
   "execution_count": 34,
   "id": "304b07d7",
   "metadata": {},
   "outputs": [
    {
     "data": {
      "text/plain": [
       "<Axes: >"
      ]
     },
     "execution_count": 34,
     "metadata": {},
     "output_type": "execute_result"
    },
    {
     "data": {
      "image/png": "[encoded data removed]",
      "text/plain": [
       "<Figure size 640x480 with 1 Axes>"
      ]
     },
     "metadata": {},
     "output_type": "display_data"
    }
   ],
   "source": [
    "merged_catchments.plot() #.loc[78].geometry"
   ]
  },
  {
   "cell_type": "markdown",
   "id": "pleasant-italic",
   "metadata": {},
   "source": [
    "# Create a watersheds shapefile where we exclude glaciers"
   ]
  },
  {
   "cell_type": "code",
   "execution_count": 19,
   "id": "vocational-mobile",
   "metadata": {},
   "outputs": [],
   "source": [
    "# The shapefile is used in the modis snow cover calculations, https://github.com/hhelgason/LamaH-Ice/blob/main/timeseries/modis_fsca_to_watersheds.py"
   ]
  },
  {
   "cell_type": "code",
   "execution_count": 35,
   "id": "seven-bread",
   "metadata": {},
   "outputs": [
    {
     "name": "stderr",
     "output_type": "stream",
     "text": [
      "C:\\Users\\hordurbhe\\AppData\\Local\\anaconda3_\\envs\\lamah_py311\\Lib\\site-packages\\shapely\\set_operations.py:77: RuntimeWarning: divide by zero encountered in difference\n",
      "  return lib.difference(a, b, **kwargs)\n"
     ]
    }
   ],
   "source": [
    "# Calculate the intersection between the catchments and glaciers\n",
    "catchments_glaciers = gpd.overlay(watersheds, glaciers, how='intersection')\n",
    "\n",
    "# Group the catchment-glacier polygons by catchment ID\n",
    "grouped = catchments_glaciers.groupby('id')['geometry'].agg(lambda x: x.unary_union)\n",
    "\n",
    "# Create a new GeoDataFrame with catchment ID and merged catchment geometry\n",
    "merged_catchments = gpd.GeoDataFrame(geometry=grouped.values, crs=watersheds.crs)\n",
    "merged_catchments['id'] = grouped.index\n",
    "merged_catchments.index = merged_catchments['id']\n",
    "merged_catchments = merged_catchments.drop(columns=['id'])\n",
    "\n",
    "# Calculate the difference between the merged catchments and the original watersheds\n",
    "non_glacier_watersheds = watersheds.geometry.difference(merged_catchments.geometry.unary_union)\n",
    "\n",
    "# Create a new GeoDataFrame with the non-glacier watersheds\n",
    "non_glacier_watersheds_gdf = gpd.GeoDataFrame(geometry=non_glacier_watersheds, crs=watersheds.crs)\n",
    "\n",
    "# Save the non-glacier watersheds to a shapefile\n",
    "path_to_save = Path(r\"C:\\Users\\hordurbhe\\Dropbox\\UW\\lamah_ice\\lamah_ice\\A_basins_total_upstrm\\3_shapefiles\\non_glacier_watersheds.shp\")\n",
    "non_glacier_watersheds_gdf.to_file(path_to_save)"
   ]
  },
  {
   "cell_type": "code",
   "execution_count": 36,
   "id": "correct-think",
   "metadata": {},
   "outputs": [
    {
     "data": {
      "text/plain": [
       "<Axes: >"
      ]
     },
     "execution_count": 36,
     "metadata": {},
     "output_type": "execute_result"
    },
    {
     "data": {
      "image/png": "[encoded data removed]",
      "text/plain": [
       "<Figure size 640x480 with 1 Axes>"
      ]
     },
     "metadata": {},
     "output_type": "display_data"
    }
   ],
   "source": [
    "non_glacier_watersheds_gdf.plot()"
   ]
  },
  {
   "cell_type": "code",
   "execution_count": 37,
   "id": "legitimate-officer",
   "metadata": {},
   "outputs": [
    {
     "data": {
      "text/plain": [
       "id\n",
       "1       True\n",
       "2       True\n",
       "3       True\n",
       "4       True\n",
       "5       True\n",
       "6       True\n",
       "7       True\n",
       "8       True\n",
       "9       True\n",
       "10      True\n",
       "11      True\n",
       "12      True\n",
       "13      True\n",
       "14      True\n",
       "15      True\n",
       "16      True\n",
       "17      True\n",
       "18      True\n",
       "19      True\n",
       "20      True\n",
       "21      True\n",
       "22      True\n",
       "23      True\n",
       "24      True\n",
       "25      True\n",
       "26      True\n",
       "27      True\n",
       "28      True\n",
       "29      True\n",
       "30      True\n",
       "31      True\n",
       "32      True\n",
       "33      True\n",
       "34      True\n",
       "35      True\n",
       "36      True\n",
       "37      True\n",
       "38      True\n",
       "39      True\n",
       "40      True\n",
       "41      True\n",
       "42      True\n",
       "43      True\n",
       "44      True\n",
       "45      True\n",
       "46      True\n",
       "47      True\n",
       "48      True\n",
       "49      True\n",
       "50      True\n",
       "51      True\n",
       "52      True\n",
       "53      True\n",
       "54      True\n",
       "55      True\n",
       "56      True\n",
       "57      True\n",
       "58      True\n",
       "59      True\n",
       "60      True\n",
       "61      True\n",
       "62      True\n",
       "63      True\n",
       "64      True\n",
       "65      True\n",
       "66      True\n",
       "67      True\n",
       "68      True\n",
       "69      True\n",
       "70      True\n",
       "71      True\n",
       "72      True\n",
       "73      True\n",
       "74      True\n",
       "75      True\n",
       "76      True\n",
       "77      True\n",
       "78      True\n",
       "79      True\n",
       "80      True\n",
       "81      True\n",
       "82      True\n",
       "83      True\n",
       "84      True\n",
       "85      True\n",
       "86      True\n",
       "87      True\n",
       "88      True\n",
       "89      True\n",
       "90      True\n",
       "91      True\n",
       "92      True\n",
       "93      True\n",
       "94      True\n",
       "95      True\n",
       "96      True\n",
       "97      True\n",
       "98      True\n",
       "99      True\n",
       "100     True\n",
       "101     True\n",
       "102     True\n",
       "103     True\n",
       "104     True\n",
       "105     True\n",
       "106     True\n",
       "107     True\n",
       "890     True\n",
       "990     True\n",
       "1010    True\n",
       "9900    True\n",
       "dtype: bool"
      ]
     },
     "execution_count": 37,
     "metadata": {},
     "output_type": "execute_result"
    }
   ],
   "source": [
    "# Check which polygons are valid\n",
    "path = Path(r\"C:\\Users\\hordurbhe\\Dropbox\\UW\\lamah_ice\\lamah_ice\\A_basins_total_upstrm\\3_shapefiles\\non_glacier_watersheds.shp\")\n",
    "gdf = gpd.read_file(path)\n",
    "gdf = gdf.set_index('id')\n",
    "valid_polygons = gdf.geometry.is_valid\n",
    "valid_polygons"
   ]
  },
  {
   "cell_type": "code",
   "execution_count": 38,
   "id": "retained-stable",
   "metadata": {
    "scrolled": true
   },
   "outputs": [
    {
     "data": {
      "text/plain": [
       "id\n",
       "2       True\n",
       "3       True\n",
       "4       True\n",
       "6       True\n",
       "7       True\n",
       "9       True\n",
       "11      True\n",
       "14      True\n",
       "21      True\n",
       "24      True\n",
       "29      True\n",
       "31      True\n",
       "32      True\n",
       "33      True\n",
       "35      True\n",
       "36      True\n",
       "37      True\n",
       "38      True\n",
       "40      True\n",
       "41      True\n",
       "42      True\n",
       "43      True\n",
       "44      True\n",
       "45      True\n",
       "46      True\n",
       "47      True\n",
       "48      True\n",
       "49      True\n",
       "51      True\n",
       "52      True\n",
       "53      True\n",
       "54      True\n",
       "55      True\n",
       "56      True\n",
       "57      True\n",
       "59      True\n",
       "60      True\n",
       "62      True\n",
       "66      True\n",
       "71      True\n",
       "73      True\n",
       "74      True\n",
       "75      True\n",
       "76      True\n",
       "77      True\n",
       "78      True\n",
       "79      True\n",
       "81      True\n",
       "86      True\n",
       "87      True\n",
       "88      True\n",
       "89      True\n",
       "93      True\n",
       "95      True\n",
       "98      True\n",
       "99      True\n",
       "100     True\n",
       "101     True\n",
       "102     True\n",
       "103     True\n",
       "104     True\n",
       "990     True\n",
       "1010    True\n",
       "9900    True\n",
       "dtype: bool"
      ]
     },
     "execution_count": 38,
     "metadata": {},
     "output_type": "execute_result"
    }
   ],
   "source": [
    "# Check which polygons are valid\n",
    "path = Path(r\"C:/Users/hordurbhe/Dropbox/UW/lamah_ice/lamah_ice/A_basins_total_upstrm/3_shapefiles/glaciers_in_catchments.shp\")\n",
    "gdf = gpd.read_file(path)\n",
    "gdf = gdf.set_index('id')\n",
    "valid_polygons = gdf.geometry.is_valid\n",
    "valid_polygons"
   ]
  }
 ],
 "metadata": {
  "kernelspec": {
   "display_name": "Python [conda env:lamah_py311]",
   "language": "python",
   "name": "conda-env-lamah_py311-py"
  },
  "language_info": {
   "codemirror_mode": {
    "name": "ipython",
    "version": 3
   },
   "file_extension": ".py",
   "mimetype": "text/x-python",
   "name": "python",
   "nbconvert_exporter": "python",
   "pygments_lexer": "ipython3",
   "version": "3.11.3"
  }
 },
 "nbformat": 4,
 "nbformat_minor": 5
}
