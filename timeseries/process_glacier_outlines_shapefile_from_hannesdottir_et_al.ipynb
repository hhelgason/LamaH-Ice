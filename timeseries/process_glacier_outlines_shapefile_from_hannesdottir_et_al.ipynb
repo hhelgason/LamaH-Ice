{
 "cells": [
  {
   "cell_type": "code",
   "execution_count": 1,
   "id": "irish-textbook",
   "metadata": {},
   "outputs": [],
   "source": [
    "%matplotlib inline"
   ]
  },
  {
   "cell_type": "code",
   "execution_count": 2,
   "id": "derived-charity",
   "metadata": {},
   "outputs": [],
   "source": [
    "# This notebook calculates the changes in the degree of glaciation of each catchment\n",
    "# We read glacier outlines from Hannesdottir et al, for 1890-2019, and calculate the percentage and total km2 of glaciation \n",
    "# for each catchment"
   ]
  },
  {
   "cell_type": "code",
   "execution_count": 3,
   "id": "driving-poultry",
   "metadata": {},
   "outputs": [],
   "source": [
    "import geopandas as gpd\n",
    "import pandas as pds\n",
    "from pathlib import Path\n",
    "import os\n",
    "import geopandas as gpd\n",
    "from shapely.geometry import Polygon, mapping\n",
    "import matplotlib.pyplot as plt\n",
    "import numpy as np\n",
    "pds.options.display.max_rows = 999\n",
    "\n",
    "def linestring_to_polygon(gdf,orig_gdf):\n",
    "    # This function converts glacier outline linestrings to polygons\n",
    "    # Thanks to Carlos Encisco, https://stackoverflow.com/questions/2964751/how-to-convert-a-geos-multilinestring-to-polygon\n",
    "    # geom = [x for x in gdf.geometry]\n",
    "    all_coords = mapping(gdf.geometry)['coordinates']\n",
    "    lats = [x[1] for x in all_coords]\n",
    "    lons = [x[0] for x in all_coords]\n",
    "    polyg = Polygon(zip(lons, lats))\n",
    "    return gpd.GeoDataFrame(index=[0], crs=orig_gdf.crs, geometry=[polyg])"
   ]
  },
  {
   "cell_type": "code",
   "execution_count": 4,
   "id": "incorporate-airline",
   "metadata": {},
   "outputs": [],
   "source": [
    "# Read watersheds and gauges\n",
    "watersheds = gpd.read_file(r'C:\\Users\\hordurbhe\\Dropbox\\UW\\lamah_ice\\lamah_ice\\A_basins_total_upstrm\\3_shapefiles\\catchments.shp')\n",
    "watersheds.index = watersheds['id']\n",
    "watersheds = watersheds.sort_index()\n",
    "\n",
    "gauges = gpd.read_file(r'C:\\Users\\hordurbhe\\Dropbox\\UW\\lamah_ice\\lamah_ice\\A_basins_total_upstrm\\3_shapefiles\\gauges.shp')\n",
    "gauges.index = gauges['id']\n",
    "gauges = gauges.drop(columns=['id'])\n",
    "gauges = gauges.sort_index()\n",
    "\n",
    "# Read basemap for Iceland (used for plotting)\n",
    "bmap = gpd.read_file(r'C:\\Users\\hordurbhe\\Documents\\Vinna\\lamah\\lamah_ice\\stanford-xz811fy7881-shapefile\\island_isn93.shp')"
   ]
  },
  {
   "cell_type": "code",
   "execution_count": 6,
   "id": "ruled-massage",
   "metadata": {},
   "outputs": [],
   "source": [
    "# Define the paths to the glacier outline shapefiles\n",
    "glacier_filenames = dict()\n",
    "path = Path(r\"C:\\Users\\hordurbhe\\Documents\\Vinna\\lamah\\lamah_ice\\glacier_outline_1890_2019_hh_Aug2021\\jökla-útlínur\")\n",
    "for year in [1890,1945,1970,2000,2014,2017,2019]: #2011,2012 #2007,2008 2010,\n",
    "    if year in [1970,2000]:\n",
    "        fname = '%ss_glacier_outlines.shp' % year\n",
    "    else:\n",
    "        fname = '%s_glacier_outlines.shp' % year\n",
    "    glacier_filenames[year] = os.path.join(path,fname)\n",
    "# Note: Years 1890, 2000, 2014, 2017 and 2019 contain all glaciers. 1945 and 1970 only contain the largest glaciers.\n",
    "\n",
    "# We create a pandas dataframe to insert results\n",
    "results_percentage = pds.DataFrame(index=watersheds.index)\n",
    "results_km2 = pds.DataFrame(index=watersheds.index)"
   ]
  },
  {
   "cell_type": "code",
   "execution_count": 5,
   "id": "shaped-national",
   "metadata": {
    "scrolled": true
   },
   "outputs": [
    {
     "name": "stdout",
     "output_type": "stream",
     "text": [
      "1890\n",
      "1945\n",
      "1970\n",
      "2000\n",
      "Glacier bound id. 824 dropped for 2000\n",
      "2014\n",
      "2017\n",
      "2019\n"
     ]
    }
   ],
   "source": [
    "# Loop over each year and calculate the glacierized area and percentage of catchment under glacier\n",
    "for year, filename in glacier_filenames.items():\n",
    "    print(year)\n",
    "    # Read in the glacier geodataframe for this year\n",
    "    glaciers = gpd.read_file(filename)\n",
    "    # We select only the lines that are classified as glacier outlines\n",
    "    glacier_bounds = glaciers[glaciers['catagory']=='glac_bound']\n",
    "    polygon_geoms = []\n",
    "    for i in glacier_bounds.index:\n",
    "        # Blöndujökull á Hornströndum (i=559): Geometrían er biluð fyrir 1890\n",
    "        if i == 559 and year == 1890:\n",
    "            glacier_bounds = glacier_bounds.drop(i)\n",
    "            continue\n",
    "        # Some glacier bounds have invalid geometries (nonetype)\n",
    "        # We convert the linestring to polygon if the geometry is valid\n",
    "        # If not, we remove the corresponding row in glacier_bounds\n",
    "        # This actually just happens for id. 824 in 2000 \n",
    "        if glacier_bounds.loc[i].geometry:\n",
    "            polygon_geoms.append(linestring_to_polygon(glacier_bounds.loc[i],glacier_bounds).values[0][0])\n",
    "        else:\n",
    "            glacier_bounds = glacier_bounds.drop(i)\n",
    "            print('Glacier bound id. %s dropped for %s' %(i,year))\n",
    "            \n",
    "    # Update the geometry of glacier_bounds with the corrected geometry\n",
    "    glacier_bounds = glacier_bounds.set_geometry(polygon_geoms) \n",
    "    glaciers = glacier_bounds\n",
    "    \n",
    "    # Calculate the intersection between the catchments and glaciers\n",
    "    catchments_glaciers = gpd.overlay(watersheds, glaciers, how='intersection')\n",
    "\n",
    "    # Calculate the intersection area between each catchment and glacier\n",
    "    catchments_glaciers['intersection_area'] = catchments_glaciers.geometry.area \n",
    "\n",
    "    # Calculate the total area of each catchment\n",
    "    watersheds['catchment_area'] = watersheds.geometry.area\n",
    "\n",
    "    # Calculate the total glacier area within each catchment\n",
    "    grouped = catchments_glaciers.groupby('id')['intersection_area'].sum()\n",
    "\n",
    "    # Sort both dataframes so that the percentage calculation is correct\n",
    "    grouped = grouped.sort_index() \n",
    "    watersheds = watersheds.sort_index()\n",
    "\n",
    "    watersheds['glacier_area'] = grouped\n",
    "    # watersheds = watersheds.set_index('id') \n",
    "    # Calculate the percentage of area of each catchment covered by glaciers\n",
    "    watersheds['glacier_percentage'] = (watersheds['glacier_area'] / watersheds['catchment_area']) * 100\n",
    "\n",
    "    # watersheds['glacier_percentage'] = 100 * watersheds['glacier_area'].values / watersheds['catchment_area'].values\n",
    "    results_percentage[year] = watersheds['glacier_percentage']\n",
    "    results_km2[year] = watersheds['glacier_area']/1e6"
   ]
  },
  {
   "cell_type": "code",
   "execution_count": 6,
   "id": "british-rally",
   "metadata": {},
   "outputs": [],
   "source": [
    "# Small glaciers in North-Iceland are not represented in the outlines in 1945 or 1970 for the following gauges:\n",
    "listi = ['V321','V51','V517','V92']\n",
    "app = []\n",
    "for l in listi:\n",
    "    app.append(gauges[gauges['st_numer'] == l].index[0]) #,'V51','V517','V92']]\n",
    "\n",
    "# We set the corresponding glacier percentages in the results dataframe as nans    \n",
    "for i in app:\n",
    "    results_km2.loc[i][[1945,1970]] = np.nan\n",
    "    results_percentage.loc[i][[1945,1970]] = np.nan"
   ]
  },
  {
   "cell_type": "code",
   "execution_count": 7,
   "id": "hindu-young",
   "metadata": {},
   "outputs": [],
   "source": [
    "# We set the glacier percentage and area for watershed id. 26 as 0 since the percentage is extremely low\n",
    "results_km2.loc[26] = np.nan\n",
    "results_percentage.loc[26] = np.nan"
   ]
  },
  {
   "cell_type": "code",
   "execution_count": 8,
   "id": "dried-applicant",
   "metadata": {},
   "outputs": [],
   "source": [
    "# If there's a NaN for years where all glaciers are covered, it's supposed to be a zero\n",
    "# Change this!\n",
    "# So if there is a number in 1890 and a nan in years 2000, 2014, 2017 or 2019:\n",
    "# It should be a zero from there on."
   ]
  },
  {
   "cell_type": "code",
   "execution_count": 9,
   "id": "contemporary-drain",
   "metadata": {},
   "outputs": [],
   "source": [
    "def replace_nans_with_zeros(dataframe):\n",
    "    df = dataframe.copy()\n",
    "    # This function replaces nan values with zeros where appropriate.\n",
    "    for i in df.index:\n",
    "        # If there is a valid value in 1890:\n",
    "        if not np.isnan(df.loc[i][1890]):\n",
    "            # If there is a nan in 2000:\n",
    "            if np.isnan(df.loc[i][2000]):\n",
    "                df.loc[i][[2000,2014,2017,2019]] = 0\n",
    "                print('2000 onwards: ID %s' %i)\n",
    "            elif np.isnan(df.loc[i][2014]):\n",
    "                print('2014 onwards: ID %s' %i)\n",
    "                df.loc[i][[2014,2017,2019]] = 0\n",
    "            elif np.isnan(df.loc[i][2017]):\n",
    "                print('2017 onwards: ID %s' %i)\n",
    "                df.loc[i][[2017,2019]] = 0\n",
    "            elif np.isnan(df.loc[i][2019]):\n",
    "                print('2019 onwards: ID %s' %i)\n",
    "                df.loc[i][[2019]] = 0\n",
    "    return(df)"
   ]
  },
  {
   "cell_type": "code",
   "execution_count": 10,
   "id": "complete-month",
   "metadata": {},
   "outputs": [
    {
     "name": "stdout",
     "output_type": "stream",
     "text": [
      "2014 onwards: ID 1\n",
      "2000 onwards: ID 8\n",
      "2014 onwards: ID 24\n",
      "2014 onwards: ID 29\n",
      "2000 onwards: ID 34\n",
      "2000 onwards: ID 107\n",
      "2014 onwards: ID 1\n",
      "2000 onwards: ID 8\n",
      "2014 onwards: ID 24\n",
      "2014 onwards: ID 29\n",
      "2000 onwards: ID 34\n",
      "2000 onwards: ID 107\n"
     ]
    }
   ],
   "source": [
    "final_results_km2 = replace_nans_with_zeros(results_km2)\n",
    "final_results_percentage = replace_nans_with_zeros(results_percentage)"
   ]
  },
  {
   "cell_type": "markdown",
   "id": "valuable-founder",
   "metadata": {},
   "source": [
    "# Perform interpolation between years with valid data:"
   ]
  },
  {
   "cell_type": "code",
   "execution_count": 12,
   "id": "duplicate-category",
   "metadata": {},
   "outputs": [],
   "source": [
    "def interpolate(results_dataframe):\n",
    "    df = results_dataframe.copy()\n",
    "    \n",
    "    years = list(range(1890, 2020))\n",
    "    df = df.reindex(columns=years)\n",
    "    df.interpolate(method='linear', axis=1, inplace=True)\n",
    "    return(df)"
   ]
  },
  {
   "cell_type": "code",
   "execution_count": 13,
   "id": "caring-brooklyn",
   "metadata": {},
   "outputs": [],
   "source": [
    "interp_final_results_km2 = interpolate(final_results_km2)\n",
    "interp_final_results_percentage = interpolate(final_results_percentage)"
   ]
  },
  {
   "cell_type": "markdown",
   "id": "welcome-fellow",
   "metadata": {},
   "source": [
    "# Percentage glaciation:"
   ]
  },
  {
   "cell_type": "code",
   "execution_count": 14,
   "id": "above-identification",
   "metadata": {},
   "outputs": [
    {
     "name": "stdout",
     "output_type": "stream",
     "text": [
      "Out of the 58 catchments with more than 2% glaciation:\n",
      "The mean change in glaciated area from 1950 to 2019 is: -3.2071421055989053\n",
      "The median change in glaciated area from 1950 to 2019 is: -2.717740132848892\n",
      "The max change in glaciated area from 1950 to 2019 is: -0.20824364809465745\n",
      "The min change in glaciated area from 1950 to 2019 is: -8.940828544464978\n",
      " \n",
      "The mean percent glaciated area in 1950 is: 27.39212318665527\n",
      "The mean percent glaciated area in 2019 is: 24.18498108105637\n"
     ]
    }
   ],
   "source": [
    "# We skip all catchments with less than 2% glaciation in 1959\n",
    "glacier_data = interp_final_results_percentage[interp_final_results_percentage[1950]>2].transpose()\n",
    "\n",
    "startyear = '1950'\n",
    "\n",
    "# Subset the DataFrame to include only years from 1950 to 2019\n",
    "glacier_data_1950_2019 = glacier_data.loc[startyear:'2019']\n",
    "\n",
    "# Calculate the difference in glaciated area between 1950 and 2019 for each watershed\n",
    "glacier_area_diff = glacier_data_1950_2019.iloc[-1] - glacier_data_1950_2019.iloc[0]\n",
    "\n",
    "# Calculate the mean change in glaciated area\n",
    "mean_glacier_area_diff = glacier_area_diff.mean()\n",
    "\n",
    "print(\"Out of the %s catchments with more than 2%% glaciation:\" % len(results_percentage[interp_final_results_percentage[1950]>2]))\n",
    "print(\"The mean change in glaciated area from %s to 2019 is:\" % startyear, mean_glacier_area_diff)\n",
    "print(\"The median change in glaciated area from %s to 2019 is:\" % startyear, glacier_area_diff.median())\n",
    "print(\"The max change in glaciated area from %s to 2019 is:\" % startyear, glacier_area_diff.max())\n",
    "print(\"The min change in glaciated area from %s to 2019 is:\" % startyear, glacier_area_diff.min())\n",
    "print(' ')\n",
    "print(\"The mean percent glaciated area in %s is:\" % startyear, glacier_data_1950_2019.iloc[0].mean())\n",
    "print(\"The mean percent glaciated area in 2019 is:\", glacier_data_1950_2019.iloc[-1].mean())"
   ]
  },
  {
   "cell_type": "markdown",
   "id": "mechanical-plaza",
   "metadata": {},
   "source": [
    "# Where does the maximum percent change occur?"
   ]
  },
  {
   "cell_type": "code",
   "execution_count": 15,
   "id": "dependent-schema",
   "metadata": {},
   "outputs": [
    {
     "data": {
      "text/plain": [
       "47"
      ]
     },
     "execution_count": 15,
     "metadata": {},
     "output_type": "execute_result"
    }
   ],
   "source": [
    "glacier_area_diff.idxmin()"
   ]
  },
  {
   "cell_type": "code",
   "execution_count": 16,
   "id": "compatible-style",
   "metadata": {},
   "outputs": [
    {
     "data": {
      "text/plain": [
       "-8.940828544464978"
      ]
     },
     "execution_count": 16,
     "metadata": {},
     "output_type": "execute_result"
    }
   ],
   "source": [
    "glacier_area_diff.loc[47]"
   ]
  },
  {
   "cell_type": "code",
   "execution_count": 17,
   "id": "amazing-metallic",
   "metadata": {},
   "outputs": [
    {
     "data": {
      "text/plain": [
       "-2.0695648018448978"
      ]
     },
     "execution_count": 17,
     "metadata": {},
     "output_type": "execute_result"
    }
   ],
   "source": [
    "glacier_area_diff.loc[102]"
   ]
  },
  {
   "cell_type": "markdown",
   "id": "southwest-earth",
   "metadata": {},
   "source": [
    "# Area in km2:"
   ]
  },
  {
   "cell_type": "code",
   "execution_count": 18,
   "id": "widespread-reliance",
   "metadata": {},
   "outputs": [
    {
     "name": "stdout",
     "output_type": "stream",
     "text": [
      "Out of the 58 catchments with more than 2% glaciation:\n",
      "The mean change in glaciated area from 1950 to 2019 is: -35.80432469274772\n",
      "The median change in glaciated area from 1950 to 2019 is: -28.433244277793563\n",
      "The max change in glaciated area from 1950 to 2019 is: -0.23818967064040675\n",
      "The min change in glaciated area from 1950 to 2019 is: -137.18094337262664\n",
      " \n",
      "The mean percent glaciated area in 1950 is: 366.3133190435099\n",
      "The mean percent glaciated area in 2019 is: 330.50899435076224\n"
     ]
    }
   ],
   "source": [
    "# We skip all catchments with less than 2% glaciation in 1959\n",
    "glacier_data = interp_final_results_km2[interp_final_results_percentage[1950]>2].transpose()\n",
    "\n",
    "startyear = '1950'\n",
    "\n",
    "# Subset the DataFrame to include only years from 1950 to 2019\n",
    "glacier_data_1950_2019 = glacier_data.loc[startyear:'2019']\n",
    "\n",
    "# Calculate the difference in glaciated area between 1950 and 2019 for each watershed\n",
    "glacier_area_diff = glacier_data_1950_2019.iloc[-1] - glacier_data_1950_2019.iloc[0]\n",
    "\n",
    "# Calculate the mean change in glaciated area\n",
    "mean_glacier_area_diff = glacier_area_diff.mean()\n",
    "print(\"Out of the %s catchments with more than 2%% glaciation:\" % len(results_percentage[interp_final_results_percentage[1950]>2]))\n",
    "print(\"The mean change in glaciated area from %s to 2019 is:\" % startyear, mean_glacier_area_diff)\n",
    "print(\"The median change in glaciated area from %s to 2019 is:\" % startyear, glacier_area_diff.median())\n",
    "print(\"The max change in glaciated area from %s to 2019 is:\" % startyear, glacier_area_diff.max())\n",
    "print(\"The min change in glaciated area from %s to 2019 is:\" % startyear, glacier_area_diff.min())\n",
    "print(' ')\n",
    "print(\"The mean percent glaciated area in %s is:\" % startyear, glacier_data_1950_2019.iloc[0].mean())\n",
    "print(\"The mean percent glaciated area in 2019 is:\", glacier_data_1950_2019.iloc[-1].mean())"
   ]
  },
  {
   "cell_type": "markdown",
   "id": "acknowledged-command",
   "metadata": {},
   "source": [
    "# Where does the maximum areal change occur?"
   ]
  },
  {
   "cell_type": "code",
   "execution_count": 19,
   "id": "dangerous-textbook",
   "metadata": {},
   "outputs": [
    {
     "data": {
      "text/plain": [
       "102"
      ]
     },
     "execution_count": 19,
     "metadata": {},
     "output_type": "execute_result"
    }
   ],
   "source": [
    "glacier_area_diff.idxmin()"
   ]
  },
  {
   "cell_type": "code",
   "execution_count": 20,
   "id": "backed-thursday",
   "metadata": {},
   "outputs": [
    {
     "data": {
      "text/plain": [
       "-137.18094337262664"
      ]
     },
     "execution_count": 20,
     "metadata": {},
     "output_type": "execute_result"
    }
   ],
   "source": [
    "glacier_area_diff.loc[102]"
   ]
  },
  {
   "cell_type": "code",
   "execution_count": 21,
   "id": "precious-pressure",
   "metadata": {},
   "outputs": [
    {
     "data": {
      "text/plain": [
       "-27.033063806615573"
      ]
     },
     "execution_count": 21,
     "metadata": {},
     "output_type": "execute_result"
    }
   ],
   "source": [
    "glacier_area_diff.loc[47]"
   ]
  },
  {
   "cell_type": "markdown",
   "id": "breathing-insider",
   "metadata": {},
   "source": [
    "# The number of catchments covered by glaciers in 1950 and 2019:"
   ]
  },
  {
   "cell_type": "code",
   "execution_count": 22,
   "id": "loaded-diary",
   "metadata": {},
   "outputs": [
    {
     "data": {
      "text/plain": [
       "62"
      ]
     },
     "execution_count": 22,
     "metadata": {},
     "output_type": "execute_result"
    }
   ],
   "source": [
    "len(results_percentage[interp_final_results_percentage[2019]>0])"
   ]
  },
  {
   "cell_type": "code",
   "execution_count": 23,
   "id": "revolutionary-admission",
   "metadata": {},
   "outputs": [
    {
     "data": {
      "text/plain": [
       "68"
      ]
     },
     "execution_count": 23,
     "metadata": {},
     "output_type": "execute_result"
    }
   ],
   "source": [
    "len(results_percentage[interp_final_results_percentage[1950]>0])"
   ]
  },
  {
   "cell_type": "code",
   "execution_count": 24,
   "id": "narrative-intent",
   "metadata": {},
   "outputs": [],
   "source": [
    "# We save a .csv file with both single year values and interpolated values"
   ]
  },
  {
   "cell_type": "code",
   "execution_count": 25,
   "id": "completed-limit",
   "metadata": {},
   "outputs": [],
   "source": [
    "savepath = Path(r\"C:\\Users\\hordurbhe\\Dropbox\\UW\\lamah_ice\\lamah_ice\\A_basins_total_upstrm\\1_attributes\\glaciated_area_km2.csv\")\n",
    "interp_final_results_km2.round(3).to_csv(savepath)\n",
    "savepath = Path(r\"C:\\Users\\hordurbhe\\Dropbox\\UW\\lamah_ice\\lamah_ice\\A_basins_total_upstrm\\1_attributes\\glaciated_area_percentage.csv\")\n",
    "interp_final_results_percentage.round(3).to_csv(savepath)"
   ]
  },
  {
   "cell_type": "markdown",
   "id": "patent-bidding",
   "metadata": {},
   "source": [
    "# Prepare calculations of topographic glacier attributes:\n",
    "# Clip the watersheds by the 2019 glacier outlines:"
   ]
  },
  {
   "cell_type": "code",
   "execution_count": 7,
   "id": "collect-heading",
   "metadata": {},
   "outputs": [],
   "source": [
    "# We re-use the code from above:\n",
    "year = 2019\n",
    "filename = glacier_filenames[year]\n",
    "# Read in the glacier geodataframe for this year\n",
    "glaciers = gpd.read_file(filename)\n",
    "# We select only the lines that are classified as glacier outlines\n",
    "glacier_bounds = glaciers[glaciers['catagory']=='glac_bound']\n",
    "polygon_geoms = []\n",
    "for i in glacier_bounds.index:\n",
    "    # Blöndujökull á Hornströndum (i=559): Geometrían er biluð fyrir 1890\n",
    "    if i == 559 and year == 1890:\n",
    "        glacier_bounds = glacier_bounds.drop(i)\n",
    "        continue\n",
    "    # Some glacier bounds have invalid geometries (nonetype)\n",
    "    # We convert the linestring to polygon if the geometry is valid\n",
    "    # If not, we remove the corresponding row in glacier_bounds\n",
    "    # This actually just happens for id. 824 in 2000 \n",
    "    if glacier_bounds.loc[i].geometry:\n",
    "        polygon_geoms.append(linestring_to_polygon(glacier_bounds.loc[i],glacier_bounds).values[0][0])\n",
    "    else:\n",
    "        glacier_bounds = glacier_bounds.drop(i)\n",
    "        print('Glacier bound id. %s dropped for %s' %(i,year))\n",
    "\n",
    "# Update the geometry of glacier_bounds with the corrected geometry\n",
    "glacier_bounds = glacier_bounds.set_geometry(polygon_geoms) \n",
    "glaciers = glacier_bounds"
   ]
  },
  {
   "cell_type": "code",
   "execution_count": 9,
   "id": "unavailable-burton",
   "metadata": {},
   "outputs": [],
   "source": [
    "# Calculate the intersection between the catchments and glaciers\n",
    "catchments_glaciers = gpd.overlay(watersheds, glaciers, how='intersection')\n",
    "\n",
    "# Group the catchment-glacier polygons by catchment ID\n",
    "grouped = catchments_glaciers.groupby('id')['geometry'].agg(lambda x: x.unary_union)\n",
    "\n",
    "# Create a new GeoDataFrame with catchment ID and merged catchment geometry\n",
    "merged_catchments = gpd.GeoDataFrame(geometry=grouped.values, crs=watersheds.crs)\n",
    "merged_catchments['id'] = grouped.index\n",
    "\n",
    "merged_catchments.index = merged_catchments['id']\n",
    "merged_catchments = merged_catchments.drop(columns=['id']) #to_file('merged_catchments.shp')\n",
    "# Save the merged catchments to a shapefile\n",
    "# merged_catchments.to_file('merged_catchments.shp')"
   ]
  },
  {
   "cell_type": "code",
   "execution_count": 11,
   "id": "parental-testament",
   "metadata": {},
   "outputs": [
    {
     "data": {
      "text/plain": [
       "<AxesSubplot:>"
      ]
     },
     "execution_count": 11,
     "metadata": {},
     "output_type": "execute_result"
    },
    {
     "data": {
      "image/png": "[encoded data removed]",
      "text/plain": [
       "<Figure size 640x480 with 1 Axes>"
      ]
     },
     "metadata": {},
     "output_type": "display_data"
    }
   ],
   "source": [
    "merged_catchments.plot() #.loc[78].geometry"
   ]
  },
  {
   "cell_type": "markdown",
   "id": "pleased-puppy",
   "metadata": {},
   "source": [
    "# Create a watersheds shapefile where we exclude glaciers"
   ]
  },
  {
   "cell_type": "code",
   "execution_count": 19,
   "id": "diverse-split",
   "metadata": {},
   "outputs": [],
   "source": [
    "# (this is for modis snow cover calculations)"
   ]
  },
  {
   "cell_type": "code",
   "execution_count": 12,
   "id": "technological-denver",
   "metadata": {},
   "outputs": [],
   "source": [
    "# Calculate the intersection between the catchments and glaciers\n",
    "catchments_glaciers = gpd.overlay(watersheds, glaciers, how='intersection')\n",
    "\n",
    "# Group the catchment-glacier polygons by catchment ID\n",
    "grouped = catchments_glaciers.groupby('id')['geometry'].agg(lambda x: x.unary_union)\n",
    "\n",
    "# Create a new GeoDataFrame with catchment ID and merged catchment geometry\n",
    "merged_catchments = gpd.GeoDataFrame(geometry=grouped.values, crs=watersheds.crs)\n",
    "merged_catchments['id'] = grouped.index\n",
    "merged_catchments.index = merged_catchments['id']\n",
    "merged_catchments = merged_catchments.drop(columns=['id'])\n",
    "\n",
    "# Calculate the difference between the merged catchments and the original watersheds\n",
    "non_glacier_watersheds = watersheds.geometry.difference(merged_catchments.geometry.unary_union)\n",
    "\n",
    "# Create a new GeoDataFrame with the non-glacier watersheds\n",
    "non_glacier_watersheds_gdf = gpd.GeoDataFrame(geometry=non_glacier_watersheds, crs=watersheds.crs)\n",
    "\n",
    "# Save the non-glacier watersheds to a shapefile\n",
    "path_to_save = Path(r\"C:\\Users\\hordurbhe\\Dropbox\\UW\\lamah_ice\\lamah_ice\\A_basins_total_upstrm\\3_shapefiles\\non_glacier_watersheds.shp\")\n",
    "non_glacier_watersheds_gdf.to_file(path_to_save)"
   ]
  },
  {
   "cell_type": "code",
   "execution_count": 14,
   "id": "marine-wiring",
   "metadata": {},
   "outputs": [
    {
     "data": {
      "text/plain": [
       "<AxesSubplot:>"
      ]
     },
     "execution_count": 14,
     "metadata": {},
     "output_type": "execute_result"
    },
    {
     "data": {
      "image/png": "[encoded data removed]",
      "text/plain": [
       "<Figure size 640x480 with 1 Axes>"
      ]
     },
     "metadata": {},
     "output_type": "display_data"
    }
   ],
   "source": [
    "non_glacier_watersheds_gdf.plot()"
   ]
  }
 ],
 "metadata": {
  "kernelspec": {
   "display_name": "Python [conda env:caravan_with_geopandas]",
   "language": "python",
   "name": "conda-env-caravan_with_geopandas-py"
  },
  "language_info": {
   "codemirror_mode": {
    "name": "ipython",
    "version": 3
   },
   "file_extension": ".py",
   "mimetype": "text/x-python",
   "name": "python",
   "nbconvert_exporter": "python",
   "pygments_lexer": "ipython3",
   "version": "3.7.15"
  }
 },
 "nbformat": 4,
 "nbformat_minor": 5
}
