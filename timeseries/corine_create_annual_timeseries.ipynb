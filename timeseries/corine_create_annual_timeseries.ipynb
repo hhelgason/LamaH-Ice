{
 "cells": [
  {
   "cell_type": "code",
   "execution_count": 6,
   "id": "579035ef",
   "metadata": {},
   "outputs": [],
   "source": [
    "%matplotlib inline"
   ]
  },
  {
   "cell_type": "code",
   "execution_count": 7,
   "id": "91ab94d0",
   "metadata": {},
   "outputs": [],
   "source": [
    "import geopandas as gpd\n",
    "import pandas as pd\n",
    "from shapely.geometry import Polygon\n",
    "from pathlib import Path"
   ]
  },
  {
   "cell_type": "code",
   "execution_count": null,
   "id": "fded7d0e",
   "metadata": {},
   "outputs": [],
   "source": [
    "# This notebook creates annual timeseries for CORINE land cover by interpolating data from years 2000, 2006, 2012 and 2018"
   ]
  },
  {
   "cell_type": "code",
   "execution_count": 8,
   "id": "c84f1a2b",
   "metadata": {},
   "outputs": [],
   "source": [
    "corine_categories = ['111','112','121','122','123','124','131','132','133','141','142','211','212','213','221','222','223','231','241','242','243','244','311','312','313','321','322','323','324','331','332','333','334','335','411','412','421','422','423','511','512','521','522','523']"
   ]
  },
  {
   "cell_type": "code",
   "execution_count": 9,
   "id": "4a98ca1f",
   "metadata": {},
   "outputs": [],
   "source": [
    "def calculate_corine_stats(corine_path, year):\n",
    "    corine = gpd.read_file(corine_path)\n",
    "    corine = corine.to_crs(watersheds.crs)  # Ensure both datasets have the same CRS\n",
    "\n",
    "    corine_stats = []\n",
    "\n",
    "    column_name = f\"CODE_{str(year)[-2:]}\"  # Generate the column name dynamically\n",
    "\n",
    "    for index, watershed in watersheds.iterrows():\n",
    "        watershed_geom = watershed[\"geometry\"]\n",
    "        watershed_area = watershed[\"area\"]\n",
    "\n",
    "        watershed_intersection = gpd.overlay(corine, watersheds.loc[[index]], how=\"intersection\")\n",
    "        intersection_area = watershed_intersection.geometry.area.sum()\n",
    "\n",
    "        if intersection_area == 0:\n",
    "            # No intersection, all fractions are 0\n",
    "            stats = {\n",
    "                \"Watershed ID\": index,  # Replace with actual watershed ID field\n",
    "                \"agr_fra\": 0,\n",
    "                \"bare_fra\": 0,\n",
    "                \"forest_fra\": 0,\n",
    "                \"glac_fra\": 0,\n",
    "                \"lake_fra\": 0,\n",
    "                \"urban_fra\": 0,\n",
    "                \"scrub_fra\": 0,\n",
    "                \"wetl_fra\": 0\n",
    "            }\n",
    "        else:\n",
    "            # Calculate fractions based on intersection areas\n",
    "            clc_area = []\n",
    "            for i in corine_categories:\n",
    "                clc_area_i = watershed_intersection[watershed_intersection[column_name] == i].geometry.area.sum()\n",
    "                clc_area.append(clc_area_i)\n",
    "\n",
    "            ag_code_idx = [corine_categories.index(i) for i in corine_categories if i.startswith('2')]\n",
    "            agr_fra = sum([clc_area[i] for i in ag_code_idx]) / intersection_area\n",
    "            bare_fra = sum([clc_area[corine_categories.index(i)] for i in ['332', '333']]) / intersection_area\n",
    "            forest_fra = sum([clc_area[corine_categories.index(i)] for i in ['311', '312', '313']]) / intersection_area\n",
    "            scrub_fra = sum([clc_area[corine_categories.index(i)] for i in ['321', '322', '323', '324']]) / intersection_area\n",
    "            wetlands_fra = sum([clc_area[corine_categories.index(i)] for i in ['411', '412', '421', '422', '423']]) / intersection_area\n",
    "            glac_fra = clc_area[corine_categories.index('335')] / intersection_area\n",
    "            lake_fra = clc_area[corine_categories.index('512')] / intersection_area\n",
    "            urban_fra = sum([clc_area[corine_categories.index(i)] for i in ['111', '112', '121', '122', '123', '124']]) / intersection_area\n",
    "\n",
    "            stats = {\n",
    "                \"Watershed ID\": index, #[\"ID\"],  # Replace with actual watershed ID field\n",
    "                \"agr_fra\": agr_fra,\n",
    "                \"bare_fra\": bare_fra,\n",
    "                \"forest_fra\": forest_fra,\n",
    "                \"glac_fra\": glac_fra,\n",
    "                \"lake_fra\": lake_fra,\n",
    "                \"urban_fra\": urban_fra,\n",
    "                \"scrub_fra\": scrub_fra,\n",
    "                \"wetl_fra\": wetlands_fra\n",
    "            }\n",
    "\n",
    "        corine_stats.append(stats)\n",
    "\n",
    "    # Create a DataFrame from the list of stats\n",
    "    corine_stats_df = pd.DataFrame(corine_stats)\n",
    "\n",
    "    # Add the \"Year\" column\n",
    "    corine_stats_df[\"Year\"] = year\n",
    "\n",
    "    return corine_stats_df"
   ]
  },
  {
   "cell_type": "code",
   "execution_count": 10,
   "id": "73e02640",
   "metadata": {},
   "outputs": [],
   "source": [
    "# Read watersheds shapefile\n",
    "watersheds = gpd.read_file(Path(r\"C:\\Users\\hordurbhe\\Documents\\Vinna\\lamah\\lamah_ice\\lamah_ice\\A_basins_total_upstrm\\3_shapefiles\\Basins_A.shp\"))\n",
    "watersheds[\"area\"] = watersheds.geometry.area\n",
    "watersheds = watersheds.set_index('id')"
   ]
  },
  {
   "cell_type": "code",
   "execution_count": 11,
   "id": "21b311f4",
   "metadata": {},
   "outputs": [],
   "source": [
    "# Define paths to corine shapefiles\n",
    "corine_2000_path = Path(r\"C:\\Users\\hordurbhe\\Documents\\Vinna\\lamah\\lamah_ice\\corine\\corine_clc00_is_isn93_lambert_1993_zip\\clc00_is.shp\")\n",
    "corine_2006_path = Path(r\"C:\\Users\\hordurbhe\\Dropbox\\UW\\lamah_ice\\GIS\\CORINE\\CLC06_isn93.shp\")\n",
    "corine_2012_path = Path(r\"C:\\Users\\hordurbhe\\Dropbox\\UW\\lamah_ice\\GIS\\CORINE\\CLC12_isn93.shp\")\n",
    "corine_2018_path = Path(r\"C:\\Users\\hordurbhe\\Dropbox\\UW\\lamah_ice\\GIS\\CORINE\\CLC18_isn93.shp\")"
   ]
  },
  {
   "cell_type": "code",
   "execution_count": 12,
   "id": "ab28c506",
   "metadata": {},
   "outputs": [],
   "source": [
    "# Calculate corine stats for each year\n",
    "years = [2000, 2006, 2012, 2018]\n",
    "corine_paths = [corine_2000_path, corine_2006_path, corine_2012_path, corine_2018_path]\n",
    "corine_stats = []\n",
    "\n",
    "# Compute the fractions - This takes a while\n",
    "for year, corine_path in zip(years, corine_paths):\n",
    "    print(year)\n",
    "    stats = calculate_corine_stats(corine_path, year)\n",
    "    corine_stats.append(stats)\n",
    "\n",
    "# Save as csv\n",
    "save_path = Path(r\"C:\\Users\\hordurbhe\\Documents\\Vinna\\lamah\\lamah_ice\\corine\\corine_watersheds_fractions_python\\Basins_A\")\n",
    "for year, dataframe in zip(years,corine_stats):\n",
    "    dataframe = dataframe.set_index('Watershed ID')\n",
    "    dataframe.round(3).to_csv(os.path.join(save_path,'corine_%s.csv' % year))"
   ]
  },
  {
   "cell_type": "code",
   "execution_count": 56,
   "id": "628da350",
   "metadata": {},
   "outputs": [],
   "source": [
    "# Interpolate and save a separate file for each stat\n",
    "\n",
    "def interpolate(results_dataframe):\n",
    "    df = results_dataframe.copy()\n",
    "    \n",
    "    years = list(range(2000, 2019))\n",
    "    df = df.reindex(index=years)\n",
    "    df.interpolate(method='linear', inplace=True)\n",
    "    return(df)\n",
    "\n",
    "# Create a directory to store the individual catchment CSV files\n",
    "output_directory = Path(r\"C:\\Users\\hordurbhe\\Dropbox\\UW\\lamah_ice\\lamah_ice\\A_basins_total_upstrm\\2_timeseries\\annual\\corine\")\n",
    "if not os.path.exists(output_directory):\n",
    "    os.makedirs(output_directory)\n",
    "\n",
    "# Iterate through each catchment ID\n",
    "for catchment_id in corine_stats[0]['Watershed ID']:\n",
    "    catchment_data_to_be_interpolated = {}\n",
    "\n",
    "    # Loop through each year's DataFrame and extract data\n",
    "    for year_df in corine_stats:\n",
    "        year_df = year_df.set_index('Watershed ID')\n",
    "        year = year_df[\"Year\"].iloc[0]\n",
    "        catchment_data = year_df.loc[catchment_id].drop(\"Year\")\n",
    "        catchment_data_to_be_interpolated[year] = catchment_data\n",
    "\n",
    "    # Convert the dictionary of interpolated data to a DataFrame\n",
    "    catchment_data_to_be_interpolated_df = pd.DataFrame(catchment_data_to_be_interpolated).transpose()\n",
    "    # Interpolate the df\n",
    "    catchment_interpolated_df = interpolate(catchment_data_to_be_interpolated_df)\n",
    "    # Save the interpolated data as a CSV file for the catchment\n",
    "    csv_filename = os.path.join(output_directory, f\"ID_{catchment_id}.csv\")\n",
    "    catchment_interpolated_df.round(3).to_csv(csv_filename)"
   ]
  },
  {
   "cell_type": "markdown",
   "id": "815e0b2f",
   "metadata": {},
   "source": [
    "# Check how our calculations compare to previously computed fractions"
   ]
  },
  {
   "cell_type": "code",
   "execution_count": 67,
   "id": "f07e210b",
   "metadata": {},
   "outputs": [],
   "source": [
    "# Extract our newly computed glacier fractions\n",
    "glac = corine_stats[3].set_index('Watershed ID')['glac_fra']\n",
    "\n",
    "# Read glacier fractions based on Hannesdottir et al.\n",
    "gl_frac_hannesd = Path(r\"C:\\Users\\hordurbhe\\Dropbox\\UW\\lamah_ice\\lamah_ice\\A_basins_total_upstrm\\2_timeseries\\annual\\glaciated_area_percentage.csv\")\n",
    "gl_frac_hannesd = pd.read_csv(gl_frac_hannesd)\n",
    "gl_frac_hannesd = gl_frac_hannesd.set_index('id')\n",
    "\n",
    "# Read catchment attributes table (our previously computed 2018 corine glac fra from QGIS)\n",
    "orig_attrs = pd.read_csv(Path(r\"C:\\Users\\hordurbhe\\Documents\\Vinna\\lamah\\lamah_ice\\lamah_ice\\A_basins_total_upstrm\\1_attributes\\Catchment_attributes.csv\"))\n",
    "orig_attrs = orig_attrs.set_index('id')\n",
    "orig_corine = orig_attrs[[\"lc_dom\",\"agr_fra\",\"bare_fra\",\"forest_fra\",\"glac_fra\",\"lake_fra\",\"urban_fra\"]]"
   ]
  },
  {
   "cell_type": "code",
   "execution_count": 79,
   "id": "4993305f",
   "metadata": {},
   "outputs": [],
   "source": [
    "glac = pd.DataFrame({'newly_computed': glac})  # Replace 'column_name1' with the actual column name\n",
    "gl_frac_hannesd = pd.DataFrame({'from_hannesd': gl_frac_hannesd['2018']/100})  # Replace 'column_name2' with the actual column name\n",
    "orig_attrs = pd.DataFrame({'previous_corine': orig_attrs['glac_fra']})  # Replace 'column_name3' with the actual column name\n",
    "\n",
    "# Concatenate the DataFrames vertically\n",
    "comb = pd.concat([glac, gl_frac_hannesd, orig_attrs], axis=1)\n"
   ]
  },
  {
   "cell_type": "code",
   "execution_count": 82,
   "id": "06c2339c",
   "metadata": {},
   "outputs": [
    {
     "data": {
      "text/plain": [
       "<Axes: >"
      ]
     },
     "execution_count": 82,
     "metadata": {},
     "output_type": "execute_result"
    },
    {
     "data": {
      "image/png": "[encoded data removed]",
      "text/plain": [
       "<Figure size 640x480 with 1 Axes>"
      ]
     },
     "metadata": {},
     "output_type": "display_data"
    }
   ],
   "source": [
    "comb.loc[:107].plot()"
   ]
  },
  {
   "cell_type": "code",
   "execution_count": 83,
   "id": "f76cba92",
   "metadata": {},
   "outputs": [
    {
     "data": {
      "text/html": [
       "<div>\n",
       "<style scoped>\n",
       "    .dataframe tbody tr th:only-of-type {\n",
       "        vertical-align: middle;\n",
       "    }\n",
       "\n",
       "    .dataframe tbody tr th {\n",
       "        vertical-align: top;\n",
       "    }\n",
       "\n",
       "    .dataframe thead th {\n",
       "        text-align: right;\n",
       "    }\n",
       "</style>\n",
       "<table border=\"1\" class=\"dataframe\">\n",
       "  <thead>\n",
       "    <tr style=\"text-align: right;\">\n",
       "      <th></th>\n",
       "      <th>newly_computed</th>\n",
       "      <th>from_hannesd</th>\n",
       "      <th>previous_corine</th>\n",
       "    </tr>\n",
       "  </thead>\n",
       "  <tbody>\n",
       "    <tr>\n",
       "      <th>1</th>\n",
       "      <td>0.000000</td>\n",
       "      <td>0.00000</td>\n",
       "      <td>0.000</td>\n",
       "    </tr>\n",
       "    <tr>\n",
       "      <th>2</th>\n",
       "      <td>0.195549</td>\n",
       "      <td>0.19048</td>\n",
       "      <td>0.196</td>\n",
       "    </tr>\n",
       "    <tr>\n",
       "      <th>3</th>\n",
       "      <td>0.090578</td>\n",
       "      <td>0.08823</td>\n",
       "      <td>0.091</td>\n",
       "    </tr>\n",
       "    <tr>\n",
       "      <th>4</th>\n",
       "      <td>0.411176</td>\n",
       "      <td>0.40248</td>\n",
       "      <td>0.411</td>\n",
       "    </tr>\n",
       "    <tr>\n",
       "      <th>5</th>\n",
       "      <td>0.000000</td>\n",
       "      <td>NaN</td>\n",
       "      <td>0.000</td>\n",
       "    </tr>\n",
       "    <tr>\n",
       "      <th>...</th>\n",
       "      <td>...</td>\n",
       "      <td>...</td>\n",
       "      <td>...</td>\n",
       "    </tr>\n",
       "    <tr>\n",
       "      <th>107</th>\n",
       "      <td>0.000000</td>\n",
       "      <td>NaN</td>\n",
       "      <td>0.000</td>\n",
       "    </tr>\n",
       "    <tr>\n",
       "      <th>890</th>\n",
       "      <td>0.000000</td>\n",
       "      <td>NaN</td>\n",
       "      <td>0.000</td>\n",
       "    </tr>\n",
       "    <tr>\n",
       "      <th>990</th>\n",
       "      <td>0.260757</td>\n",
       "      <td>0.25816</td>\n",
       "      <td>0.261</td>\n",
       "    </tr>\n",
       "    <tr>\n",
       "      <th>1010</th>\n",
       "      <td>0.203387</td>\n",
       "      <td>0.20133</td>\n",
       "      <td>0.203</td>\n",
       "    </tr>\n",
       "    <tr>\n",
       "      <th>9900</th>\n",
       "      <td>0.352859</td>\n",
       "      <td>0.34921</td>\n",
       "      <td>0.353</td>\n",
       "    </tr>\n",
       "  </tbody>\n",
       "</table>\n",
       "<p>111 rows × 3 columns</p>\n",
       "</div>"
      ],
      "text/plain": [
       "      newly_computed  from_hannesd  previous_corine\n",
       "1           0.000000       0.00000            0.000\n",
       "2           0.195549       0.19048            0.196\n",
       "3           0.090578       0.08823            0.091\n",
       "4           0.411176       0.40248            0.411\n",
       "5           0.000000           NaN            0.000\n",
       "...              ...           ...              ...\n",
       "107         0.000000           NaN            0.000\n",
       "890         0.000000           NaN            0.000\n",
       "990         0.260757       0.25816            0.261\n",
       "1010        0.203387       0.20133            0.203\n",
       "9900        0.352859       0.34921            0.353\n",
       "\n",
       "[111 rows x 3 columns]"
      ]
     },
     "execution_count": 83,
     "metadata": {},
     "output_type": "execute_result"
    }
   ],
   "source": [
    "comb"
   ]
  },
  {
   "cell_type": "code",
   "execution_count": null,
   "id": "67536785",
   "metadata": {},
   "outputs": [],
   "source": [
    "# Looks good!"
   ]
  }
 ],
 "metadata": {
  "kernelspec": {
   "display_name": "Python [conda env:lamah_py311]",
   "language": "python",
   "name": "conda-env-lamah_py311-py"
  },
  "language_info": {
   "codemirror_mode": {
    "name": "ipython",
    "version": 3
   },
   "file_extension": ".py",
   "mimetype": "text/x-python",
   "name": "python",
   "nbconvert_exporter": "python",
   "pygments_lexer": "ipython3",
   "version": "3.11.3"
  }
 },
 "nbformat": 4,
 "nbformat_minor": 5
}
