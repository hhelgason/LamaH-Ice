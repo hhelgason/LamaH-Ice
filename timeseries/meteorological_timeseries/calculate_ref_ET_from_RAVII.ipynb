{
 "cells": [
  {
   "cell_type": "code",
   "execution_count": 1,
   "id": "62c98f7b",
   "metadata": {},
   "outputs": [],
   "source": [
    "%matplotlib inline"
   ]
  },
  {
   "cell_type": "code",
   "execution_count": 2,
   "id": "c7a83270",
   "metadata": {},
   "outputs": [],
   "source": [
    "from pathlib import Path\n",
    "import pandas as pds\n",
    "import numpy as np\n",
    "import glob\n",
    "import pandas as pd"
   ]
  },
  {
   "cell_type": "code",
   "execution_count": 4,
   "id": "834e1f0e",
   "metadata": {},
   "outputs": [],
   "source": [
    "# Function to extract catchment ID from filename\n",
    "def extract_catchment_id(filename):\n",
    "    # Assuming filename format is 'lamahice_X.nc', where X is the catchment ID\n",
    "    return filename.split('_')[-1].split('.')[0]"
   ]
  },
  {
   "cell_type": "markdown",
   "id": "4e007a13",
   "metadata": {},
   "source": [
    "# We use the RAV-II data to calculate Reference ET"
   ]
  },
  {
   "cell_type": "code",
   "execution_count": 5,
   "id": "458d616f",
   "metadata": {},
   "outputs": [],
   "source": [
    "# Define functions needed\n",
    "def calculate_dewpoint(temp_k, specific_humidity, pressure):\n",
    "    # Constants\n",
    "    a = 17.27\n",
    "    b = 237.7\n",
    "    epsilon = 0.622\n",
    "\n",
    "    # Convert temperature to Celsius\n",
    "    temp_c = temp_k - 273.15\n",
    "\n",
    "    # Calculate saturation vapor pressure (E_s) in hPa\n",
    "    e_s = 6.112 * np.exp((a * temp_c) / (b + temp_c))\n",
    "\n",
    "    # Calculate actual vapor pressure (E) using specific humidity and pressure\n",
    "    # Pressure should be in hPa for consistency\n",
    "    \n",
    "    # Convert pressure from Pa to hPa for the calculation\n",
    "    pressure_hpa = pressure / 100\n",
    "    \n",
    "    e = (specific_humidity * pressure_hpa) / (epsilon + (1 - epsilon) * specific_humidity)\n",
    "\n",
    "    # Calculate relative humidity\n",
    "    rh = 100 * (e / e_s)\n",
    "\n",
    "    # Calculate gamma(T, RH)\n",
    "    gamma = (a * temp_c / (b + temp_c)) + np.log(rh / 100)\n",
    "\n",
    "    # Calculate dewpoint temperature\n",
    "    dewpoint = (b * gamma) / (a - gamma)\n",
    "\n",
    "    return dewpoint"
   ]
  },
  {
   "cell_type": "code",
   "execution_count": 6,
   "id": "a8f27068",
   "metadata": {},
   "outputs": [],
   "source": [
    "# First we read the Surface Pressure that was exported separately\n",
    "path = Path(r\"C:\\Users\\hordurbhe\\Documents\\Vinna\\lamah\\lamah_ice\\rav2\\Basins_A\\rav2_PSFC_daily_Basins_A.csv\")\n",
    "df_psfc = pds.read_csv(path)\n",
    "df_psfc = df_psfc.set_index('Time')\n",
    "df_psfc.index = pds.to_datetime(df_psfc.index)\n",
    "df_psfc_daily = df_psfc.resample('D').mean()"
   ]
  },
  {
   "cell_type": "code",
   "execution_count": 9,
   "id": "401e58f2",
   "metadata": {},
   "outputs": [],
   "source": [
    "# Now we loop through all IDs and calculate PET and save as .csv\n",
    "path = Path(r\"C:\\Users\\hordurbhe\\Documents\\Vinna\\lamah\\lamah_ice\\rav2\\Basins_A\\csv\")\n",
    "filepaths = glob.glob(str(path) + '/*.csv')\n",
    "\n",
    "for fpath in filepaths:\n",
    "    df = pds.read_csv(fpath)\n",
    "    df = df.set_index('Time')\n",
    "    df.index = pds.to_datetime(df.index) #['time']\n",
    "    data = df.resample('D').mean()\n",
    "\n",
    "    ID = extract_catchment_id(fpath)\n",
    "    pressure = df_psfc_daily[ID]/1000 # Convert pressure from Pa to kPa\n",
    "\n",
    "    albedo = 0.23 # Hypothetical crop albedo from FAO\n",
    "    sw_net = data['SWDOWN'] * (1-albedo)\n",
    "    lw_net = data['GLW'] - data['OLR']\n",
    "\n",
    "    # Convert radiation from W/m² (J/s/m²) to MJ/m²/day\n",
    "    Rn = (sw_net - lw_net) * (1/1000000) * 86400\n",
    "\n",
    "    G = data['GRDFLX'] * (1/1000000) * 86400 #Rn*0.3\n",
    "\n",
    "    # Calculate dewpoint temperature\n",
    "    dT = calculate_dewpoint(data['T2'], data['Q2'], df_psfc_daily[ID])\n",
    "\n",
    "    # Remaining calculations (assuming dT is in Celsius)\n",
    "    es = 0.6108 * np.exp(17.27 * (data['T2'] - 273.15) / ((data['T2'] - 273.15) + 237.3))\n",
    "    ea = 0.6108 * np.exp(17.27 * (dT / (dT + 237.3)))\n",
    "\n",
    "    delta = 4098 * es / np.power(data['T2'] - 273.15 + 237.3, 2)\n",
    "    gamma = 0.665 * 10**-3 * pressure # / 1000  # Convert pressure from Pa to kPa\n",
    "\n",
    "    U10 = np.sqrt(data['U10']**2 + data['V10']**2)\n",
    "    U2 = U10 * (4.87 / np.log(67.8 * 10 - 5.42))\n",
    "\n",
    "    # Complete the Penman-Monteith equation\n",
    "    numerator = 0.408 * delta * (Rn + G) + gamma * (900 / (data['T2'])) * U2 * (es - ea)\n",
    "    # We add G because flux of heat from ground to atmosphere is positive\n",
    "    denominator = delta + gamma * (1 + 0.34 * U2)\n",
    "    pet = numerator / denominator\n",
    "\n",
    "    # Save the reference ET data\n",
    "    pet.name='PET'\n",
    "    pet.index.name = 'date' \n",
    "    save_path = Path(r\"C:\\Users\\hordurbhe\\Documents\\Vinna\\lamah\\lamah_ice\\PET_Calculations\\ref_ET_from_RAV_PM\\%s.csv\" % ID)\n",
    "    pet.to_csv(save_path) "
   ]
  }
 ],
 "metadata": {
  "kernelspec": {
   "display_name": "Python [conda env:kiwis_old]",
   "language": "python",
   "name": "conda-env-kiwis_old-py"
  },
  "language_info": {
   "codemirror_mode": {
    "name": "ipython",
    "version": 3
   },
   "file_extension": ".py",
   "mimetype": "text/x-python",
   "name": "python",
   "nbconvert_exporter": "python",
   "pygments_lexer": "ipython3",
   "version": "3.9.2"
  }
 },
 "nbformat": 4,
 "nbformat_minor": 5
}
